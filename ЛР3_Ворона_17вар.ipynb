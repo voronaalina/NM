{
  "nbformat": 4,
  "nbformat_minor": 0,
  "metadata": {
    "colab": {
      "provenance": [],
      "include_colab_link": true
    },
    "kernelspec": {
      "name": "python3",
      "display_name": "Python 3"
    },
    "language_info": {
      "name": "python"
    }
  },
  "cells": [
    {
      "cell_type": "markdown",
      "metadata": {
        "id": "view-in-github",
        "colab_type": "text"
      },
      "source": [
        "<a href=\"https://colab.research.google.com/github/voronaalina/NM/blob/main/%D0%9B%D0%A03_%D0%92%D0%BE%D1%80%D0%BE%D0%BD%D0%B0_17%D0%B2%D0%B0%D1%80.ipynb\" target=\"_parent\"><img src=\"https://colab.research.google.com/assets/colab-badge.svg\" alt=\"Open In Colab\"/></a>"
      ]
    },
    {
      "cell_type": "markdown",
      "source": [
        "Філімонова Тетяна. Варіант 3"
      ],
      "metadata": {
        "id": "HlvFbYQzhdIu"
      }
    },
    {
      "cell_type": "markdown",
      "source": [
        "1. Метод ділення навпіл."
      ],
      "metadata": {
        "id": "VgrW9zRY0dVt"
      }
    },
    {
      "cell_type": "code",
      "execution_count": null,
      "metadata": {
        "colab": {
          "base_uri": "https://localhost:8080/"
        },
        "id": "iOTNXySVyeHy",
        "outputId": "157e717e-e4f5-4255-9279-a86d2072a7f3"
      },
      "outputs": [
        {
          "output_type": "stream",
          "name": "stdout",
          "text": [
            "Результати обчислень\n",
            "\n",
            "          a      F(a)         c      F(c)       b      F(b)\n",
            "0 -3.000000  0.977954 -2.000000  1.135204 -1.0000 -0.454649\n",
            "1 -2.000000  1.135204 -1.500000 -0.123480 -1.0000 -0.454649\n",
            "2 -2.000000  1.135204 -1.750000  0.405593 -1.5000 -0.123480\n",
            "3 -1.750000  0.405593 -1.625000  0.109040 -1.5000 -0.123480\n",
            "4 -1.625000  0.109040 -1.562500 -0.015587 -1.5000 -0.123480\n",
            "5 -1.625000  0.109040 -1.593750  0.044659 -1.5625 -0.015587\n",
            "6 -1.593750  0.044659 -1.578125  0.014015 -1.5625 -0.015587\n",
            "7 -1.578125  0.014015 -1.570312 -0.000917 -1.5625 -0.015587\n",
            "\n",
            "В точці с =  -1.5703125 , f(c) =  -0.0009171268569415665\n"
          ]
        }
      ],
      "source": [
        "import numpy as np\n",
        "import pandas as pd\n",
        "\n",
        "# Визначаємо функцію\n",
        "def f (x):\n",
        "    y = np.cos(x)*np.sin(x)*(x**2+x+1)\n",
        "    return y\n",
        "# Визначаємо границі відрізку\n",
        "a, b = -3, -1\n",
        "# Визначаємо точність розв'язку\n",
        "eps = 0.001\n",
        "# Поділяємо відрізок навпіл\n",
        "c = (a+b)/2\n",
        "# Зберігаємо результати обчислень\n",
        "data_A = [a]\n",
        "data_B = [b]\n",
        "data_C = [c]\n",
        "data_F_A = [f(a)]\n",
        "data_F_B = [f(b)]\n",
        "data_F_C = [f(c)]\n",
        "# Перевіряємо досягнення точності\n",
        "while np.abs(f(c)) > eps:\n",
        "    # Звужуємо відрізок\n",
        "    if np.sign(f(c)) == np.sign(f(a)):\n",
        "        a = c\n",
        "    else:\n",
        "        b = c\n",
        "    # Поділяємо відрізок навпіл\n",
        "    c = (a+b)/2\n",
        "    # Зберігаємо результати обчислень\n",
        "    data_A.append(a)\n",
        "    data_B.append(b)\n",
        "    data_C.append(c)\n",
        "    data_F_A.append(f(a))\n",
        "    data_F_B.append(f(b))\n",
        "    data_F_C.append(f(c))\n",
        "# Відображаємо результати обчислень\n",
        "print('Результати обчислень')\n",
        "print()\n",
        "data = pd.DataFrame({'a': data_A,\n",
        "                     'F(a)': data_F_A,\n",
        "                     'c': data_C,\n",
        "                     'F(c)': data_F_C,\n",
        "                     'b': data_B,\n",
        "                     'F(b)': data_F_B})\n",
        "print(data)\n",
        "# Відображаємо наближений корінь рівняння\n",
        "print()\n",
        "print('В точці с = ', c, ', f(c) = ', f(c))"
      ]
    },
    {
      "cell_type": "markdown",
      "source": [
        "2. Метод ділення навпіл"
      ],
      "metadata": {
        "id": "5hYa7ucn0PEN"
      }
    },
    {
      "cell_type": "code",
      "source": [
        "import numpy as np\n",
        "import scipy.optimize as sp\n",
        "\n",
        "def f(x):\n",
        "    y = np.cos(x)*np.sin(x)*(x**2+x+1)\n",
        "    return y\n",
        "\n",
        "a, b = -3, -1\n",
        "eps = 1.e-3\n",
        "\n",
        "x = sp.bisect(f, a, b,(),eps) #функція для метода\n",
        "\n",
        "print('The approximate solution x is:', x)\n",
        "print('And the value f(x) is:', f(x))"
      ],
      "metadata": {
        "colab": {
          "base_uri": "https://localhost:8080/"
        },
        "id": "ML3KEw5q0H1e",
        "outputId": "bdc8a603-0692-4ccd-ca90-e1b0e6ad9332"
      },
      "execution_count": null,
      "outputs": [
        {
          "output_type": "stream",
          "name": "stdout",
          "text": [
            "The approximate solution x is: -1.5712890625\n",
            "And the value f(x) is: 0.0009350448126615916\n"
          ]
        }
      ]
    },
    {
      "cell_type": "markdown",
      "source": [
        "3. Метод хорд"
      ],
      "metadata": {
        "id": "sYf0IvR41ufd"
      }
    },
    {
      "cell_type": "code",
      "source": [
        "import numpy as np\n",
        "import pandas as pd\n",
        "# Визначаємо функцію\n",
        "def f(x):\n",
        "    y = np.cos(x)*np.sin(x)*(x**2+x+1)\n",
        "    return y\n",
        "# Визначаємо межі відрізку\n",
        "a, b = -3, -1\n",
        "# Визначаємо точність розв'язку\n",
        "eps = 0.001\n",
        "# Точка, де хорда перетинає вісь 0x\n",
        "c = (f(a)*b-a*f(b))/(f(a)-f(b))\n",
        "\n",
        "# Зберігаємо результати обчислень\n",
        "data_A = [a]\n",
        "data_B = [b]\n",
        "data_C = [c]\n",
        "data_F_A = [f(a)]\n",
        "data_F_B = [f(b)]\n",
        "data_F_C = [f(c)]\n",
        "# Перевіряємо досягнення точності\n",
        "while np.abs(f(c)) > eps:\n",
        "    # Звужуємо відрізок\n",
        "    if np.sign(f(c)) == np.sign(f(a)):\n",
        "        a = c\n",
        "    else:\n",
        "        b = c\n",
        "    # Точка, де хорда перетинає вісь 0x\n",
        "    c = (f(a)*b-a*f(b))/(f(a)-f(b))\n",
        "    # Зберігаємо результати обчислень\n",
        "    data_A.append(a)\n",
        "    data_B.append(b)\n",
        "    data_C.append(c)\n",
        "    data_F_A.append(f(a))\n",
        "    data_F_B.append(f(b))\n",
        "    data_F_C.append(f(c))\n",
        "# Відображаємо результати обчислень\n",
        "print('Результати обчислень')\n",
        "print()\n",
        "data = pd.DataFrame({'a': data_A, 'F(a)': data_F_A,\n",
        "                     'c': data_C, 'F(c)': data_F_C,\n",
        "                     'b': data_B, 'F(b)': data_F_B})\n",
        "print(data)\n",
        "# Відображаємо наближений корінь рівняння\n",
        "print()\n",
        "print('В точці с = ', c, ', f(c) = ', f(c))"
      ],
      "metadata": {
        "colab": {
          "base_uri": "https://localhost:8080/"
        },
        "id": "3p6i5xHK1y3l",
        "outputId": "59afade8-804f-4f8a-ca1c-23e822802055"
      },
      "execution_count": null,
      "outputs": [
        {
          "output_type": "stream",
          "name": "stdout",
          "text": [
            "Результати обчислень\n",
            "\n",
            "          a      F(a)         c      F(c)         b      F(b)\n",
            "0 -3.000000  0.977954 -1.634717  0.129889 -1.000000 -0.454649\n",
            "1 -1.634717  0.129889 -1.493678 -0.133455 -1.000000 -0.454649\n",
            "2 -1.634717  0.129889 -1.565152 -0.010636 -1.493678 -0.133455\n",
            "3 -1.634717  0.129889 -1.570418 -0.000718 -1.565152 -0.010636\n",
            "\n",
            "В точці с =  -1.5704175737258015 , f(c) =  -0.0007180376446871882\n"
          ]
        }
      ]
    },
    {
      "cell_type": "markdown",
      "source": [
        "4. Метод Ньютона (дотичних)"
      ],
      "metadata": {
        "id": "40blPBSK2Cdm"
      }
    },
    {
      "cell_type": "code",
      "source": [
        "import numpy as np\n",
        "import pandas as pd\n",
        "# Визначаємо функцію\n",
        "def f(x):\n",
        "    y = np.cos(x)*np.sin(x)*(x**2+x+1)\n",
        "    return y\n",
        "# Визначаємо першу похідну\n",
        "def df(x):\n",
        "    y1 = -(x**2+x+1)*(np.sin(x))**2\n",
        "    y2 = (x**2+x+1)*(np.cos(x))**2\n",
        "    y3 = (2*x+1)*np.sin(x)*np.cos(x)\n",
        "    y = y1+y2+y3\n",
        "    return y\n",
        "# Визначаємо початкову точку\n",
        "c = -1.4\n",
        "# Визначаємо точність розв'язку\n",
        "eps = 0.001\n",
        "# Зберігаємо результати обчислень\n",
        "data_C = [c]\n",
        "data_F_C = [f(c)]\n",
        "# Перевіряємо досягнення точності\n",
        "while np.abs(f(c)) > eps:\n",
        "    # Точка, де дотична перетинає вісь 0x\n",
        "    c -= f(c)/df(c)\n",
        "    # Зберігаємо результати обчислень\n",
        "    data_C.append(c)\n",
        "    data_F_C.append(f(c))\n",
        "# Відображаємо результати обчислень\n",
        "print('Результати обчислень')\n",
        "print()\n",
        "data = pd.DataFrame({'c': data_C, 'F(c)': data_F_C})\n",
        "print(data)\n",
        "# Відображаємо наближений корінь рівняння\n",
        "print()\n",
        "print('В точці с = ', c, ', f(c) = ', f(c))"
      ],
      "metadata": {
        "colab": {
          "base_uri": "https://localhost:8080/"
        },
        "id": "WeGQjbjW2HDz",
        "outputId": "45514ab4-f65d-448b-e987-7c62d627b3ac"
      },
      "execution_count": 1,
      "outputs": [
        {
          "output_type": "stream",
          "name": "stdout",
          "text": [
            "Результати обчислень\n",
            "\n",
            "          c      F(c)\n",
            "0 -1.400000 -0.261291\n",
            "1 -1.623636  0.106144\n",
            "2 -1.573564  0.005266\n",
            "3 -1.570805  0.000016\n",
            "\n",
            "В точці с =  -1.5708049170979717 , f(c) =  1.6292567852764437e-05\n"
          ]
        }
      ]
    },
    {
      "cell_type": "markdown",
      "source": [
        "5. Метод Ньютона (дотичних)"
      ],
      "metadata": {
        "id": "qjI38bTp0xCo"
      }
    },
    {
      "cell_type": "code",
      "source": [
        "import numpy as np\n",
        "import scipy.optimize as sp\n",
        "\n",
        "def f(x):\n",
        "    y = np.cos(x)*np.sin(x)*(x**2+x+1)\n",
        "    return y\n",
        "\n",
        "def df(x):# Обчислення похідної\n",
        "    y1 = -(x**2+x+1)*(np.sin(x))**2\n",
        "    y2 = (x**2+x+1)*(np.cos(x))**2\n",
        "    y3 = (2*x+1)*np.sin(x)*np.cos(x)\n",
        "    y = y1+y2+y3\n",
        "    return y\n",
        "\n",
        "x0 = -1.4\n",
        "x1 = 1.4\n",
        "\n",
        "x_0 = sp.newton(f, x0, df, tol=1.e-3, maxiter=50)\n",
        "x_1 = sp.newton(f, x1, df, tol=1.e-3, maxiter=50)\n",
        "\n",
        "print('The approximate solution x is:', x_0)\n",
        "print('And the value f(x_0) is:', f(x_0))\n",
        "\n",
        "print('The approximate solution x is:', x_1)\n",
        "print('And the value f(x_0) is:', f(x_1))"
      ],
      "metadata": {
        "colab": {
          "base_uri": "https://localhost:8080/"
        },
        "id": "AonZxq_H0m6-",
        "outputId": "a5fbe19c-44d1-4589-a918-17059807eb8b"
      },
      "execution_count": 2,
      "outputs": [
        {
          "output_type": "stream",
          "name": "stdout",
          "text": [
            "The approximate solution x is: -1.5707963268782201\n",
            "And the value f(x_0) is: 1.5803176499052036e-10\n",
            "The approximate solution x is: 1.5707963267958693\n",
            "And the value f(x_0) is: -4.9007361645997675e-12\n"
          ]
        }
      ]
    },
    {
      "cell_type": "markdown",
      "source": [
        " # Знаходження коренів рівняння за допомогою бібліотеки SymPy"
      ],
      "metadata": {
        "id": "pvK9N9TH1QD-"
      }
    },
    {
      "cell_type": "code",
      "source": [
        "import sympy as sym\n",
        "\n",
        "x = sym.Symbol('x')\n",
        "\n",
        "y = sym.cos(x)*sym.sin(x)*(x**2+x+1)\n",
        "\n",
        "s = sym.solve(y)\n",
        "\n",
        "print(s)"
      ],
      "metadata": {
        "colab": {
          "base_uri": "https://localhost:8080/"
        },
        "id": "PuAp1WCr08qt",
        "outputId": "36c578b1-b0b4-40d5-8142-44bf252e747d"
      },
      "execution_count": null,
      "outputs": [
        {
          "output_type": "stream",
          "name": "stdout",
          "text": [
            "[0, pi/2, pi, 3*pi/2, -1/2 - sqrt(3)*I/2, -1/2 + sqrt(3)*I/2]\n"
          ]
        }
      ]
    },
    {
      "cell_type": "code",
      "source": [
        "import sympy as sym\n",
        "\n",
        "x, a, b, c = sym.symbols('x, a, b, c')\n",
        "\n",
        "y = a * x**2 + b * x + c\n",
        "\n",
        "s = sym.solve(y, x)\n",
        "\n",
        "print(s)"
      ],
      "metadata": {
        "colab": {
          "base_uri": "https://localhost:8080/"
        },
        "id": "Y0d-uHtp1c7r",
        "outputId": "42a681c2-3c44-4db2-dbe7-7c1615e9bbe9"
      },
      "execution_count": null,
      "outputs": [
        {
          "output_type": "stream",
          "name": "stdout",
          "text": [
            "[(-b - sqrt(-4*a*c + b**2))/(2*a), (-b + sqrt(-4*a*c + b**2))/(2*a)]\n"
          ]
        }
      ]
    },
    {
      "cell_type": "markdown",
      "source": [],
      "metadata": {
        "id": "mk1oBvYj1GC2"
      }
    },
    {
      "cell_type": "code",
      "source": [
        "!pip install numdifftools"
      ],
      "metadata": {
        "colab": {
          "base_uri": "https://localhost:8080/"
        },
        "id": "yiLJNuM3Cq0-",
        "outputId": "5afa1614-9efd-4c76-a725-f6ba7edab712"
      },
      "execution_count": 3,
      "outputs": [
        {
          "output_type": "stream",
          "name": "stdout",
          "text": [
            "Collecting numdifftools\n",
            "  Downloading numdifftools-0.9.41-py2.py3-none-any.whl.metadata (39 kB)\n",
            "Requirement already satisfied: numpy>=1.9 in /usr/local/lib/python3.12/dist-packages (from numdifftools) (2.0.2)\n",
            "Requirement already satisfied: scipy>=0.8 in /usr/local/lib/python3.12/dist-packages (from numdifftools) (1.16.1)\n",
            "Downloading numdifftools-0.9.41-py2.py3-none-any.whl (100 kB)\n",
            "\u001b[2K   \u001b[90m━━━━━━━━━━━━━━━━━━━━━━━━━━━━━━━━━━━━━━━━\u001b[0m \u001b[32m100.2/100.2 kB\u001b[0m \u001b[31m3.4 MB/s\u001b[0m eta \u001b[36m0:00:00\u001b[0m\n",
            "\u001b[?25hInstalling collected packages: numdifftools\n",
            "Successfully installed numdifftools-0.9.41\n"
          ]
        }
      ]
    },
    {
      "cell_type": "code",
      "source": [
        "#Лабораторна робота 2\n",
        "#Відокремлення коренів\n",
        "import numpy as np\n",
        "import numdifftools as nd\n",
        "\n",
        "def f(x):\n",
        "    return 9*x**4 + 8*x**3 + 1.5*x**2 + 2*x - 10\n",
        "\n",
        "\n",
        "def find_segments(): #відокремлюємо корені\n",
        "    search_range = np.arange(-5, 5, 1)\n",
        "\n",
        "    a = None\n",
        "    previous_x = None\n",
        "    current_x  = None\n",
        "    segments = []\n",
        "\n",
        "    for x in search_range:\n",
        "        x = round(x, 4)\n",
        "        current_x = f(x)\n",
        "        if previous_x != None and previous_x * current_x < 0:\n",
        "            segments.append((a, x))\n",
        "        a = x\n",
        "        previous_x = current_x\n",
        "    return segments\n",
        "\n",
        "segments = find_segments()\n",
        "for a, b in segments:\n",
        "    print(f'Found segment:  [{a}, {b}]')\n"
      ],
      "metadata": {
        "colab": {
          "base_uri": "https://localhost:8080/"
        },
        "id": "L-9dn4npCso-",
        "outputId": "f40bcca7-3ed4-4856-9e44-ffee91d3ad10"
      },
      "execution_count": 4,
      "outputs": [
        {
          "output_type": "stream",
          "name": "stdout",
          "text": [
            "Found segment:  [-2, -1]\n",
            "Found segment:  [0, 1]\n"
          ]
        }
      ]
    },
    {
      "cell_type": "code",
      "source": [
        "import numpy as np\n",
        "import matplotlib.pyplot as plt\n",
        "\n",
        "# Визначення функції\n",
        "def f(x):\n",
        "    return 4*x**4 - 4*x**3 + 2*x**2 - 3*x - 9\n",
        "\n",
        "# Генерація значень x\n",
        "x = np.linspace(-2, 2, 100)\n",
        "\n",
        "# Генерація значень y\n",
        "y = f(x)\n",
        "\n",
        "# Побудова графіка\n",
        "plt.figure(figsize=(8, 6))\n",
        "plt.plot(x, y, label='4*x**4 - 4*x**3 + 2*x**2 - 3*x - 9', color='blue')\n",
        "plt.title('Графік функції 4*x**4 - 4*x**3 + 2*x**2 - 3*x - 9')\n",
        "plt.xlabel('x')\n",
        "plt.ylabel('f(x)')\n",
        "\n",
        "# Додавання осей з стрілками\n",
        "plt.axhline(0, color='black', linewidth=0.5)\n",
        "plt.axvline(0, color='black', linewidth=0.5)\n",
        "\n",
        "plt.text(2.05, -4, 'x', ha='center', va='center')\n",
        "plt.text(-0.3, 190, 'y', ha='center', va='center')\n",
        "\n",
        "plt.grid(True)\n",
        "plt.legend()\n",
        "plt.show()\n"
      ],
      "metadata": {
        "colab": {
          "base_uri": "https://localhost:8080/",
          "height": 863
        },
        "id": "7zUI3d1xZXar",
        "outputId": "0e900675-5550-4a52-dbf3-603ee1e3e3ae"
      },
      "execution_count": 16,
      "outputs": [
        {
          "output_type": "display_data",
          "data": {
            "text/plain": [
              "<Figure size 800x600 with 1 Axes>"
            ],
            "image/png": "[encoded data removed]"
          },
          "metadata": {}
        }
      ]
    },
    {
      "cell_type": "markdown",
      "source": [
        "![image.png](data:image/png;base64,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)"
      ],
      "metadata": {
        "id": "XOO8qt4GEDWW"
      }
    },
    {
      "cell_type": "code",
      "source": [
        "#Лабораторна робота. Метод половинного ділення, хорд\n",
        "\n",
        "def rec(a, b, eps):  # метод половинного ділення\n",
        "    while (np.abs(a - b) > eps):\n",
        "        if f(a) * f((a + b) / 2) < 0:\n",
        "            b = (a + b) / 2\n",
        "        else:\n",
        "            a = (a + b) / 2\n",
        "        x = (a + b) / 2\n",
        "\n",
        "    print('x= ', round(x, 5), '  -   Half division method')\n"
      ],
      "metadata": {
        "id": "BgjK94O9Cfxe"
      },
      "execution_count": 6,
      "outputs": []
    },
    {
      "cell_type": "code",
      "source": [
        "def hord(a, b, eps):  # метод хорд\n",
        "    derivative_f = nd.Derivative(f, n=2)\n",
        "    if f(a) * derivative_f(a) > 0:\n",
        "        x0 = a\n",
        "        xi = b\n",
        "    else:\n",
        "        x0 = b\n",
        "        xi = a\n",
        "    xi_1 = xi - (xi - x0) * f(xi) / (f(xi) - f(x0))\n",
        "    while (np.abs(xi_1 - xi) > eps):\n",
        "        xi = xi_1\n",
        "        xi_1 = xi - (xi - x0) * f(xi) / (f(xi) - f(x0))\n",
        "    print('x= ', round(xi_1, 5), '  -   Chord method')\n"
      ],
      "metadata": {
        "id": "Sz_KWVf7D2tL"
      },
      "execution_count": 7,
      "outputs": []
    },
    {
      "cell_type": "code",
      "source": [
        "if __name__ == \"__main__\":\n",
        "    a1, b1 = -1, 0\n",
        "    a2, b2 = 1, 2\n",
        "    eps = 0.0001\n",
        "    print(\"Розв'язки на відрізку [-1,0]\")\n",
        "    rec(a1, b1, eps)\n",
        "    hord(a1, b1, eps)\n",
        "    print(\"\\n Розв'язки на відрізку [1,2]\")\n",
        "    rec(a2, b2, eps)\n",
        "    hord(a2, b2, eps)"
      ],
      "metadata": {
        "id": "upx7R4yoFZj_",
        "outputId": "b4a2f535-6682-48c1-f16a-e6f1d0bb8c5e",
        "colab": {
          "base_uri": "https://localhost:8080/"
        }
      },
      "execution_count": 22,
      "outputs": [
        {
          "output_type": "stream",
          "name": "stdout",
          "text": [
            "Розв'язки на відрізку [-1,0]\n",
            "x=  -0.86807   -   Half division method\n",
            "x=  -0.86809   -   Chord method\n",
            "\n",
            " Розв'язки на відрізку [1,2]\n",
            "x=  1.56882   -   Half division method\n",
            "x=  1.56876   -   Chord method\n"
          ]
        }
      ]
    },
    {
      "cell_type": "code",
      "source": [
        "#Лабораторна робота 3. Метод Ньютона (дотичних). Комбінований метод\n",
        "\n",
        "import numpy as np\n",
        "import numdifftools as nd\n",
        "\n",
        "def f(x):\n",
        "    return 4*x**4 - 4*x**3 + 2*x**2 - 3*x - 9\n",
        "\n",
        "def nuton(a, b, eps, f):\n",
        "    df1 = nd.Derivative(f, n=1)   # створюємо callable для 1-ї похідної\n",
        "    df2 = nd.Derivative(f, n=2)   # і для 2-ї\n",
        "    xi = b if f(b) * df2(b) > 0 else a\n",
        "\n",
        "    xi_1 = xi - f(xi) / df1(xi)\n",
        "    while np.abs(xi_1 - xi) > eps:\n",
        "        xi = xi_1\n",
        "        d = df1(xi)\n",
        "        if d == 0:\n",
        "            raise ZeroDivisionError(\"Похідна дорівнює нулю — зупинка.\")\n",
        "        xi_1 = xi - f(xi) / d\n",
        "\n",
        "    print('Метод Ньютона, x =', round(float(xi_1), 4))"
      ],
      "metadata": {
        "id": "t-FUcU4Fj0-f"
      },
      "execution_count": 17,
      "outputs": []
    },
    {
      "cell_type": "code",
      "source": [
        "def komb(a, b, eps, f):\n",
        "    df2 = nd.Derivative(f, n=2)(a)\n",
        "    if f(a) * df2 > 0:\n",
        "        a0, b0 = a, b\n",
        "    else:\n",
        "        a0, b0 = b, a\n",
        "    ai, bi = a0, b0\n",
        "\n",
        "    while np.abs(ai - bi) > eps:\n",
        "        ai_1 = ai - f(ai) * (bi - ai) / (f(bi) - f(ai))\n",
        "        bi_1 = bi - f(bi) / nd.Derivative(f, n=1)(bi)\n",
        "        ai, bi = ai_1, bi_1\n",
        "\n",
        "    x = (ai_1 + bi_1) / 2\n",
        "\n",
        "    print('Комбінований метод, x = ', x.round(4))\n"
      ],
      "metadata": {
        "id": "M2T4FA4ifyy_"
      },
      "execution_count": 18,
      "outputs": []
    },
    {
      "cell_type": "code",
      "source": [
        "if __name__ == \"__main__\":\n",
        "    a1, b1 = -1, 0\n",
        "    a2, b2 = 1, 2\n",
        "    eps = 0.0001\n",
        "\n",
        "    print(\"Розв'язання на відрізку [-1, 0]\")\n",
        "    nuton(a1, b1, eps, f)\n",
        "    komb(a1, b1, eps, f)\n",
        "    print(\"\\n Розв'язання на відрізку [1, 2]\")\n",
        "    nuton(a2, b2, eps, f)\n",
        "    komb(a2, b2, eps, f)"
      ],
      "metadata": {
        "colab": {
          "base_uri": "https://localhost:8080/"
        },
        "id": "zrxTpvysf0zN",
        "outputId": "8b53c636-701b-466e-f99b-04a934708089"
      },
      "execution_count": 21,
      "outputs": [
        {
          "output_type": "stream",
          "name": "stdout",
          "text": [
            "Розв'язання на відрізку [-1, 0]\n",
            "Метод Ньютона, x = -0.8681\n",
            "Комбінований метод, x =  -0.8681\n",
            "\n",
            " Розв'язання на відрізку [1, 2]\n",
            "Метод Ньютона, x = 1.5688\n",
            "Комбінований метод, x =  1.5688\n"
          ]
        }
      ]
    },
    {
      "cell_type": "markdown",
      "source": [
        "Завдання 3. Лабораторна робота 3\n",
        "\n",
        "Тема: Відокремлення дійсних коренів рівнянь та їх уточнення методом простої ітерації."
      ],
      "metadata": {
        "id": "370aMnuwjPeK"
      }
    },
    {
      "cell_type": "code",
      "source": [
        "!pip install numdifftools"
      ],
      "metadata": {
        "colab": {
          "base_uri": "https://localhost:8080/"
        },
        "id": "Rc37HrNui3h5",
        "outputId": "e247bc95-6a96-409a-c94f-52d35e5f3f58"
      },
      "execution_count": 23,
      "outputs": [
        {
          "output_type": "stream",
          "name": "stdout",
          "text": [
            "Requirement already satisfied: numdifftools in /usr/local/lib/python3.12/dist-packages (0.9.41)\n",
            "Requirement already satisfied: numpy>=1.9 in /usr/local/lib/python3.12/dist-packages (from numdifftools) (2.0.2)\n",
            "Requirement already satisfied: scipy>=0.8 in /usr/local/lib/python3.12/dist-packages (from numdifftools) (1.16.1)\n"
          ]
        }
      ]
    },
    {
      "cell_type": "code",
      "source": [
        "import numdifftools as nd"
      ],
      "metadata": {
        "id": "mCRRGRFlizK1"
      },
      "execution_count": 13,
      "outputs": []
    },
    {
      "cell_type": "markdown",
      "source": [
        "![image.png](data:image/png;base64,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)"
      ],
      "metadata": {
        "id": "0fJvG2jSIq9I"
      }
    },
    {
      "cell_type": "markdown",
      "source": [
        "Визначаємо, що корінь належить відрізку [0, 2]"
      ],
      "metadata": {
        "id": "49S6DfpDqrQZ"
      }
    },
    {
      "cell_type": "code",
      "source": [
        "def f(x: float):\n",
        "    return x**3 + 4*x - 6\n",
        "\n",
        "def fprime(x: float):\n",
        "    return nd.Derivative(f, n=1)\n",
        "\n",
        "def phi(x: float):\n",
        "    # c = -1 (забезпечує |phi'(x)|<1 на [0,2])\n",
        "    return x - 3.5 * f(x)\n",
        "\n",
        "def iterate_fixed_point(x0: float, iters: int = 5):\n",
        "    xs = [x0]\n",
        "    x = x0\n",
        "    for _ in range(iters):\n",
        "        x = phi(x)\n",
        "        xs.append(x)\n",
        "    return xs\n",
        "\n",
        "def error_bound(x_last: float) -> float:\n",
        "    # μ = min_{x∈[0,2]} |f'(x)| = 4\n",
        "    mu = 4.0\n",
        "    return abs(f(x_last)) / mu\n",
        "\n"
      ],
      "metadata": {
        "id": "gt8HxS1AiM0Y"
      },
      "execution_count": 25,
      "outputs": []
    },
    {
      "cell_type": "code",
      "source": [
        "def main():\n",
        "    x0 = 1.0\n",
        "    iters = 5\n",
        "    xs = iterate_fixed_point(x0, iters)\n",
        "    print(\"Fixed-point iteration for f(x) = x^3 + 4*x - 6 with phi(x) = x - 3.5*f(x)\")\n",
        "    print(f\"Interval: [0, 2], start x0 = {x0}\")\n",
        "    for i, xi in enumerate(xs):\n",
        "        if i == 0:\n",
        "            print(f\"x_{i} = {xi:.10f}\")\n",
        "        else:\n",
        "            print(f\"x_{i} = phi(x_{i-1}) = {xi:.10f}\")\n",
        "    bound = error_bound(xs[-1])\n",
        "    print(\"\\nError bound after 5 iterations:  |ξ - x5| ≤ |f(x5)| / μ\")\n",
        "    print(f\"f(x5) = {f(xs[-1]):.10f},  μ = 2  ⇒  |ξ - x5| ≤ {bound:.10f}\")\n",
        "    return xs[-1], bound\n",
        "\n",
        "if __name__ == \"__main__\":\n",
        "    root_approx, bound = main()"
      ],
      "metadata": {
        "colab": {
          "base_uri": "https://localhost:8080/"
        },
        "id": "NcUIwAOAimLR",
        "outputId": "2a7951b5-14ab-4327-a54a-3d344986f465"
      },
      "execution_count": 28,
      "outputs": [
        {
          "output_type": "stream",
          "name": "stdout",
          "text": [
            "Fixed-point iteration for f(x) = x^3 + 4*x - 6 with phi(x) = x - 3.5*f(x)\n",
            "Interval: [0, 2], start x0 = 1.0\n",
            "x_0 = 1.0000000000\n",
            "x_1 = phi(x_0) = 4.5000000000\n",
            "x_2 = phi(x_1) = -356.4375000000\n",
            "x_3 = phi(x_2) = 158500619.9571533203\n",
            "x_4 = phi(x_3) = -13936731722684899772071936.0000000000\n",
            "x_5 = phi(x_4) = 9474381421505442498779647289972317240770987752063937013485982400506220249088.0000000000\n",
            "\n",
            "Error bound after 5 iterations:  |ξ - x5| ≤ |f(x5)| / μ\n",
            "f(x5) = 850457457938405606922682590680512674792723115277770405839499824290735383874605142134616433986580349243797144320105288481568395353249580628246019253602802670843202759819897920375015398989532962567984874855656529980868240816996352.0000000000,  μ = 2  ⇒  |ξ - x5| ≤ 212614364484601401730670647670128168698180778819442601459874956072683845968651285533654108496645087310949286080026322120392098838312395157061504813400700667710800689954974480093753849747383240641996218713914132495217060204249088.0000000000\n"
          ]
        }
      ]
    },
    {
      "cell_type": "markdown",
      "source": [
        "Спрощений варіант коду\n"
      ],
      "metadata": {
        "id": "_gkwLHTNkDwS"
      }
    },
    {
      "cell_type": "code",
      "source": [
        "# Рівняння: f(x) = x^3 + 4*x - 6 = 0\n",
        "# Ітераційна функція: φ(x) = x - 3.5 * f(x)  (c = -3.5)\n",
        "# Початкове наближення: x0 = 1\n",
        "# Кількість ітерацій: 5\n",
        "# Оцінка похибки: |ξ - x5| ≤ |f(x5)| / μ, де μ = min_{[0,2]} |f'(x)| = 4\n",
        "\n",
        "def f(x):\n",
        "    return x**3 + 4*x - 6\n",
        "\n",
        "def phi(x):\n",
        "    return x - 3.5 * f(x)   # c = -3.5\n",
        "\n",
        "def fixed_point(x0=1.0, iters=5):\n",
        "    xs = [x0]\n",
        "    for _ in range(iters):\n",
        "        xs.append(phi(xs[-1]))\n",
        "    return xs\n",
        "\n",
        "# Запуск і вивід результатів\n",
        "xs = fixed_point(1.0, 5)\n",
        "\n",
        "for i, xi in enumerate(xs):\n",
        "    print(f\"x_{i} = {xi:.10f}\")\n",
        "\n",
        "# Похибка методу простої ітерації після 5-ї ітерації\n",
        "mu = 2.0                      # μ = min_{[0,2]} |3x^2 + 4| = 4\n",
        "err_bound = abs(f(xs[-1]))/mu\n",
        "print(f\"\\nОцінка похибки: |ξ - x5| ≤ {err_bound:.10f}\")"
      ],
      "metadata": {
        "colab": {
          "base_uri": "https://localhost:8080/"
        },
        "id": "womZO91vj9vN",
        "outputId": "0dfa9fab-f670-49e0-a4ef-ba23c120b0f1"
      },
      "execution_count": 30,
      "outputs": [
        {
          "output_type": "stream",
          "name": "stdout",
          "text": [
            "x_0 = 1.0000000000\n",
            "x_1 = 4.5000000000\n",
            "x_2 = -356.4375000000\n",
            "x_3 = 158500619.9571533203\n",
            "x_4 = -13936731722684899772071936.0000000000\n",
            "x_5 = 9474381421505442498779647289972317240770987752063937013485982400506220249088.0000000000\n",
            "\n",
            "Оцінка похибки: |ξ - x5| ≤ 425228728969202803461341295340256337396361557638885202919749912145367691937302571067308216993290174621898572160052644240784197676624790314123009626801401335421601379909948960187507699494766481283992437427828264990434120408498176.0000000000\n"
          ]
        }
      ]
    }
  ]
}