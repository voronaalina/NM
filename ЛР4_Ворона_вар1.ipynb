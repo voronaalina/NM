{
  "nbformat": 4,
  "nbformat_minor": 0,
  "metadata": {
    "colab": {
      "provenance": [],
      "authorship_tag": "ABX9TyPK/gpst28/8c7R4DBO1SEW",
      "include_colab_link": true
    },
    "kernelspec": {
      "name": "python3",
      "display_name": "Python 3"
    },
    "language_info": {
      "name": "python"
    }
  },
  "cells": [
    {
      "cell_type": "markdown",
      "metadata": {
        "id": "view-in-github",
        "colab_type": "text"
      },
      "source": [
        "<a href=\"https://colab.research.google.com/github/voronaalina/NM/blob/main/%D0%9B%D0%A04_%D0%92%D0%BE%D1%80%D0%BE%D0%BD%D0%B0_%D0%B2%D0%B0%D1%801.ipynb\" target=\"_parent\"><img src=\"https://colab.research.google.com/assets/colab-badge.svg\" alt=\"Open In Colab\"/></a>"
      ]
    },
    {
      "cell_type": "markdown",
      "source": [
        "Варіант 1\n",
        "\n",
        "Була присутня на парі 26.09"
      ],
      "metadata": {
        "id": "lGqJiCvjNdab"
      }
    },
    {
      "cell_type": "code",
      "source": [
        "import numpy as np\n",
        "numpy_version = np.__version__\n",
        "numpy_version"
      ],
      "metadata": {
        "colab": {
          "base_uri": "https://localhost:8080/",
          "height": 36
        },
        "id": "H30mQR0JNq1-",
        "outputId": "d42e1d40-7ebf-4f03-c3a5-ddfe172afff9"
      },
      "execution_count": 1,
      "outputs": [
        {
          "output_type": "execute_result",
          "data": {
            "text/plain": [
              "'2.0.2'"
            ],
            "application/vnd.google.colaboratory.intrinsic+json": {
              "type": "string"
            }
          },
          "metadata": {},
          "execution_count": 1
        }
      ]
    },
    {
      "cell_type": "code",
      "source": [
        "matrix = np.random.randint(1, 6, size=(3, 3))\n",
        "\n",
        "matrix"
      ],
      "metadata": {
        "colab": {
          "base_uri": "https://localhost:8080/"
        },
        "id": "D_tDE_pjNyKb",
        "outputId": "e97ec0e2-ee3f-4da2-feab-c44c9bdc9ea3"
      },
      "execution_count": 7,
      "outputs": [
        {
          "output_type": "execute_result",
          "data": {
            "text/plain": [
              "array([[2, 5, 5],\n",
              "       [1, 2, 3],\n",
              "       [2, 3, 1]])"
            ]
          },
          "metadata": {},
          "execution_count": 7
        }
      ]
    },
    {
      "cell_type": "code",
      "source": [
        "det = np.linalg.det(matrix)\n",
        "det"
      ],
      "metadata": {
        "colab": {
          "base_uri": "https://localhost:8080/"
        },
        "id": "brBJlaDaOJpP",
        "outputId": "1651b8fa-e25a-45ae-b245-666064d4ffe1"
      },
      "execution_count": 8,
      "outputs": [
        {
          "output_type": "execute_result",
          "data": {
            "text/plain": [
              "np.float64(6.0)"
            ]
          },
          "metadata": {},
          "execution_count": 8
        }
      ]
    },
    {
      "cell_type": "code",
      "source": [
        "product = np.prod(matrix)\n",
        "product"
      ],
      "metadata": {
        "colab": {
          "base_uri": "https://localhost:8080/"
        },
        "id": "sGCrP9JtOuaY",
        "outputId": "44490e04-e790-499d-99ce-fb3dbe32e028"
      },
      "execution_count": 9,
      "outputs": [
        {
          "output_type": "execute_result",
          "data": {
            "text/plain": [
              "np.int64(1800)"
            ]
          },
          "metadata": {},
          "execution_count": 9
        }
      ]
    },
    {
      "cell_type": "code",
      "source": [
        "prod_1 = np.prod(matrix[0])\n",
        "prod_2 = np.prod(matrix[1])\n",
        "prod_3 = np.prod(matrix[2])\n",
        "prod_1*prod_2*prod_3"
      ],
      "metadata": {
        "colab": {
          "base_uri": "https://localhost:8080/"
        },
        "id": "i67nFQAGO4gv",
        "outputId": "932ea68c-b3d5-4fc9-f00a-ccd781f4bee9"
      },
      "execution_count": 10,
      "outputs": [
        {
          "output_type": "execute_result",
          "data": {
            "text/plain": [
              "np.int64(1800)"
            ]
          },
          "metadata": {},
          "execution_count": 10
        }
      ]
    },
    {
      "cell_type": "code",
      "source": [
        "np.sum(matrix)"
      ],
      "metadata": {
        "colab": {
          "base_uri": "https://localhost:8080/"
        },
        "id": "oUdAQnfmPQXV",
        "outputId": "e38b1774-7816-44e8-eb62-a92880f718ec"
      },
      "execution_count": 11,
      "outputs": [
        {
          "output_type": "execute_result",
          "data": {
            "text/plain": [
              "np.int64(24)"
            ]
          },
          "metadata": {},
          "execution_count": 11
        }
      ]
    },
    {
      "cell_type": "code",
      "source": [
        "np.max(matrix)"
      ],
      "metadata": {
        "colab": {
          "base_uri": "https://localhost:8080/"
        },
        "id": "6DOzIXu9Pjty",
        "outputId": "efc6ca2b-4e1f-417e-ac20-e437d317a449"
      },
      "execution_count": 12,
      "outputs": [
        {
          "output_type": "execute_result",
          "data": {
            "text/plain": [
              "np.int64(5)"
            ]
          },
          "metadata": {},
          "execution_count": 12
        }
      ]
    },
    {
      "cell_type": "code",
      "source": [
        "np.min(matrix)"
      ],
      "metadata": {
        "colab": {
          "base_uri": "https://localhost:8080/"
        },
        "id": "Zjk0mEJmPu4B",
        "outputId": "f08acf5b-c371-4179-ccc9-20582e05d917"
      },
      "execution_count": 13,
      "outputs": [
        {
          "output_type": "execute_result",
          "data": {
            "text/plain": [
              "np.int64(1)"
            ]
          },
          "metadata": {},
          "execution_count": 13
        }
      ]
    },
    {
      "cell_type": "code",
      "source": [
        "mean = np.mean(matrix)\n",
        "mean"
      ],
      "metadata": {
        "colab": {
          "base_uri": "https://localhost:8080/"
        },
        "id": "QcXJDFliPy0u",
        "outputId": "8145c96a-3a46-45cd-91d1-3ec561897dc0"
      },
      "execution_count": 15,
      "outputs": [
        {
          "output_type": "execute_result",
          "data": {
            "text/plain": [
              "np.float64(2.6666666666666665)"
            ]
          },
          "metadata": {},
          "execution_count": 15
        }
      ]
    },
    {
      "cell_type": "code",
      "source": [
        "sqrt_matrix = np.sqrt(matrix)\n",
        "sqrt_matrix"
      ],
      "metadata": {
        "colab": {
          "base_uri": "https://localhost:8080/"
        },
        "id": "p0ZIM6YdQjJ9",
        "outputId": "018a1e10-391e-4872-b1c2-d6375e3aafa2"
      },
      "execution_count": 16,
      "outputs": [
        {
          "output_type": "execute_result",
          "data": {
            "text/plain": [
              "array([[1.41421356, 2.23606798, 2.23606798],\n",
              "       [1.        , 1.41421356, 1.73205081],\n",
              "       [1.41421356, 1.73205081, 1.        ]])"
            ]
          },
          "metadata": {},
          "execution_count": 16
        }
      ]
    },
    {
      "cell_type": "code",
      "source": [
        "row_sums = np.sum(matrix, axis=1).reshape(-1,1)\n",
        "row_sums"
      ],
      "metadata": {
        "colab": {
          "base_uri": "https://localhost:8080/"
        },
        "id": "Z_0dslwrQzKe",
        "outputId": "c3413e71-1cc9-4e66-86e5-64217c36ed8e"
      },
      "execution_count": 18,
      "outputs": [
        {
          "output_type": "execute_result",
          "data": {
            "text/plain": [
              "array([[12],\n",
              "       [ 6],\n",
              "       [ 6]])"
            ]
          },
          "metadata": {},
          "execution_count": 18
        }
      ]
    },
    {
      "cell_type": "code",
      "source": [
        "x = np.matrix([[1,2], [4,3]])\n",
        "x"
      ],
      "metadata": {
        "colab": {
          "base_uri": "https://localhost:8080/"
        },
        "id": "ivKwQv8rSbu3",
        "outputId": "d4501241-b369-4b2e-e1d5-7b45e7abbf5b"
      },
      "execution_count": 21,
      "outputs": [
        {
          "output_type": "execute_result",
          "data": {
            "text/plain": [
              "matrix([[1, 2],\n",
              "        [4, 3]])"
            ]
          },
          "metadata": {},
          "execution_count": 21
        }
      ]
    },
    {
      "cell_type": "code",
      "source": [
        "x.sum(axis=1)"
      ],
      "metadata": {
        "colab": {
          "base_uri": "https://localhost:8080/"
        },
        "id": "Z-AC3-CpSyK1",
        "outputId": "542c66a5-cfce-4b1f-89af-541f03135aca"
      },
      "execution_count": 22,
      "outputs": [
        {
          "output_type": "execute_result",
          "data": {
            "text/plain": [
              "matrix([[3],\n",
              "        [7]])"
            ]
          },
          "metadata": {},
          "execution_count": 22
        }
      ]
    },
    {
      "cell_type": "code",
      "source": [
        "x.sum(axis=1, dtype='float')"
      ],
      "metadata": {
        "colab": {
          "base_uri": "https://localhost:8080/"
        },
        "id": "X7vNeE3HTAiz",
        "outputId": "7b375811-cdc8-4c8e-9e65-c41c567eb2c5"
      },
      "execution_count": 23,
      "outputs": [
        {
          "output_type": "execute_result",
          "data": {
            "text/plain": [
              "matrix([[3.],\n",
              "        [7.]])"
            ]
          },
          "metadata": {},
          "execution_count": 23
        }
      ]
    },
    {
      "cell_type": "code",
      "source": [
        "vector = np.random.randint(0, 10, size=25)\n",
        "vector"
      ],
      "metadata": {
        "colab": {
          "base_uri": "https://localhost:8080/"
        },
        "id": "2THR2mrJRGx0",
        "outputId": "f3b2b9c6-51ff-4efe-a9ed-6c3794e08bf4"
      },
      "execution_count": 19,
      "outputs": [
        {
          "output_type": "execute_result",
          "data": {
            "text/plain": [
              "array([6, 4, 3, 3, 6, 7, 4, 1, 2, 0, 6, 3, 5, 8, 6, 8, 4, 6, 9, 4, 9, 3,\n",
              "       5, 3, 6])"
            ]
          },
          "metadata": {},
          "execution_count": 19
        }
      ]
    },
    {
      "cell_type": "code",
      "source": [
        "#сортування за спаданням\n",
        "sorted_vector = np.sort(vector)[::-1]\n",
        "sorted_vector"
      ],
      "metadata": {
        "colab": {
          "base_uri": "https://localhost:8080/"
        },
        "id": "v--jSkA_TMY4",
        "outputId": "774014b1-9954-4eba-e3b0-1ea014a1c368"
      },
      "execution_count": 24,
      "outputs": [
        {
          "output_type": "execute_result",
          "data": {
            "text/plain": [
              "array([9, 9, 8, 8, 7, 6, 6, 6, 6, 6, 6, 5, 5, 4, 4, 4, 4, 3, 3, 3, 3, 3,\n",
              "       2, 1, 0])"
            ]
          },
          "metadata": {},
          "execution_count": 24
        }
      ]
    },
    {
      "cell_type": "markdown",
      "source": [
        "![image.png](data:image/png;base64,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)"
      ],
      "metadata": {
        "id": "ldiUZjGNUNfL"
      }
    },
    {
      "cell_type": "code",
      "source": [
        "a = np.array([\n",
        "    [14, 4, 6],\n",
        "    [5, -3, 2],\n",
        "    [10, -11, 5],\n",
        "])\n",
        "b =np.array([[30],[15],[36]])"
      ],
      "metadata": {
        "id": "0wtZFcJLUT9Y"
      },
      "execution_count": 25,
      "outputs": []
    },
    {
      "cell_type": "code",
      "source": [
        "#Матричний метод (1 спосіб)\n",
        "det_a = np.linalg.det(a)\n",
        "if det_a == 0:\n",
        "    print(\"Визначник дорівнює нулю - рішень немає\")\n",
        "else:\n",
        "  a_inv = np.linalg.inv(a)\n",
        "  print(f\"Обернена матриця до матриці A: \\r\\n {a_inv }\")\n",
        "  print(f\"Вектор рішення: \\r\\n {a_inv.dot(b)}\")"
      ],
      "metadata": {
        "colab": {
          "base_uri": "https://localhost:8080/"
        },
        "id": "RciedcBLVAnm",
        "outputId": "e4883727-5b95-4dea-942e-bc0434311631"
      },
      "execution_count": 26,
      "outputs": [
        {
          "output_type": "stream",
          "name": "stdout",
          "text": [
            "Обернена матриця до матриці A: \r\n",
            " [[-0.09722222  1.19444444 -0.36111111]\n",
            " [ 0.06944444 -0.13888889 -0.02777778]\n",
            " [ 0.34722222 -2.69444444  0.86111111]]\n",
            "Вектор рішення: \r\n",
            " [[ 2.]\n",
            " [-1.]\n",
            " [ 1.]]\n"
          ]
        }
      ]
    },
    {
      "cell_type": "code",
      "source": [
        "# Метод Крамера\n",
        "det_a = np.linalg.det(a)\n",
        "\n",
        "if det_a == 0:\n",
        "    print(\"Визначник дорівнює нулю — система не має єдиного розв’язку.\")\n",
        "else:\n",
        "    def replace_column(matrix, column_index, new_column):\n",
        "        new_matrix = np.copy(matrix)\n",
        "        new_matrix[:, column_index] = new_column\n",
        "        return new_matrix\n",
        "\n",
        "    # Обчислюємо Δx, Δy, Δz\n",
        "    delta_x = np.linalg.det(replace_column(a, 0, b.T))\n",
        "    delta_y = np.linalg.det(replace_column(a, 1, b.T))\n",
        "    delta_z = np.linalg.det(replace_column(a, 2, b.T))\n",
        "\n",
        "    # Обчислюємо x, y, z\n",
        "    print('x =', delta_x / det_a)\n",
        "    print('y =', delta_y / det_a)\n",
        "    print('z =', delta_z / det_a)"
      ],
      "metadata": {
        "colab": {
          "base_uri": "https://localhost:8080/"
        },
        "id": "f4nYnXULVTPj",
        "outputId": "acc117a9-d3f9-4c94-e494-d556b1a22bac"
      },
      "execution_count": 27,
      "outputs": [
        {
          "output_type": "stream",
          "name": "stdout",
          "text": [
            "x = 2.0000000000000018\n",
            "y = -1.0\n",
            "z = 0.9999999999999972\n"
          ]
        }
      ]
    },
    {
      "cell_type": "code",
      "source": [
        "x = np.linalg.solve(a, b)\n",
        "\n",
        "print(x)"
      ],
      "metadata": {
        "colab": {
          "base_uri": "https://localhost:8080/"
        },
        "id": "klkPp2qnVcnA",
        "outputId": "5237954d-9657-4476-e7ac-2e80706ae35f"
      },
      "execution_count": 28,
      "outputs": [
        {
          "output_type": "stream",
          "name": "stdout",
          "text": [
            "[[ 2.]\n",
            " [-1.]\n",
            " [ 1.]]\n"
          ]
        }
      ]
    }
  ]
}