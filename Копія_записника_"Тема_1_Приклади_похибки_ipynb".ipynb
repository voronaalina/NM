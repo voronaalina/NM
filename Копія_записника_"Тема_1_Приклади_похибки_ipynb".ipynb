{
  "nbformat": 4,
  "nbformat_minor": 0,
  "metadata": {
    "colab": {
      "provenance": [],
      "include_colab_link": true
    },
    "kernelspec": {
      "name": "python3",
      "display_name": "Python 3"
    },
    "language_info": {
      "name": "python"
    }
  },
  "cells": [
    {
      "cell_type": "markdown",
      "metadata": {
        "id": "view-in-github",
        "colab_type": "text"
      },
      "source": [
        "<a href=\"https://colab.research.google.com/github/voronaalina/NM/blob/main/%D0%9A%D0%BE%D0%BF%D1%96%D1%8F_%D0%B7%D0%B0%D0%BF%D0%B8%D1%81%D0%BD%D0%B8%D0%BA%D0%B0_%22%D0%A2%D0%B5%D0%BC%D0%B0_1_%D0%9F%D1%80%D0%B8%D0%BA%D0%BB%D0%B0%D0%B4%D0%B8_%D0%BF%D0%BE%D1%85%D0%B8%D0%B1%D0%BA%D0%B8_ipynb%22.ipynb\" target=\"_parent\"><img src=\"https://colab.research.google.com/assets/colab-badge.svg\" alt=\"Open In Colab\"/></a>"
      ]
    },
    {
      "cell_type": "code",
      "execution_count": null,
      "metadata": {
        "colab": {
          "base_uri": "https://localhost:8080/"
        },
        "id": "o6C05dIo6S8t",
        "outputId": "08aa18c0-cfab-4546-e649-3238ecc8d997"
      },
      "outputs": [
        {
          "output_type": "execute_result",
          "data": {
            "text/plain": [
              "0.0002"
            ]
          },
          "metadata": {},
          "execution_count": 1
        }
      ],
      "source": [
        "0.0001 + 0.0001"
      ]
    },
    {
      "cell_type": "code",
      "source": [
        "0.00085 + 0.00015"
      ],
      "metadata": {
        "colab": {
          "base_uri": "https://localhost:8080/"
        },
        "id": "9B1MiepWXUPC",
        "outputId": "8ce49af0-7dfe-470a-c1cd-03e75fe56a14"
      },
      "execution_count": null,
      "outputs": [
        {
          "output_type": "execute_result",
          "data": {
            "text/plain": [
              "0.001"
            ]
          },
          "metadata": {},
          "execution_count": 2
        }
      ]
    },
    {
      "cell_type": "code",
      "source": [
        "0.3*3"
      ],
      "metadata": {
        "colab": {
          "base_uri": "https://localhost:8080/"
        },
        "id": "qxnWv5tkXjgM",
        "outputId": "483a7f73-ba8b-4b94-c79d-40a0893ad2f8"
      },
      "execution_count": null,
      "outputs": [
        {
          "output_type": "execute_result",
          "data": {
            "text/plain": [
              "0.8999999999999999"
            ]
          },
          "metadata": {},
          "execution_count": 3
        }
      ]
    },
    {
      "cell_type": "code",
      "source": [
        "# Приклад 1: неточність обчислень з плаваючою комою\n",
        "0.009 + 0.001  # Очікуємо 0.010, але отримаємо 0.009999999999999998"
      ],
      "metadata": {
        "colab": {
          "base_uri": "https://localhost:8080/"
        },
        "id": "HVus0LMb6Y7o",
        "outputId": "3d308195-6457-4184-bd4c-8bf7ef4a5824"
      },
      "execution_count": null,
      "outputs": [
        {
          "output_type": "execute_result",
          "data": {
            "text/plain": [
              "0.009999999999999998"
            ]
          },
          "metadata": {},
          "execution_count": 4
        }
      ]
    },
    {
      "cell_type": "code",
      "source": [
        "# Приклад 2: неточність при відніманні\n",
        "0.3 - 0.2  # Очікуємо 0.1, але отримаємо 0.09999999999999998\n"
      ],
      "metadata": {
        "colab": {
          "base_uri": "https://localhost:8080/"
        },
        "id": "DlpfEvpF6xfe",
        "outputId": "7a2b4a5e-382f-4957-ff3d-ed528bdc6a91"
      },
      "execution_count": null,
      "outputs": [
        {
          "output_type": "execute_result",
          "data": {
            "text/plain": [
              "0.09999999999999998"
            ]
          },
          "metadata": {},
          "execution_count": 5
        }
      ]
    },
    {
      "cell_type": "code",
      "source": [
        "0.5 - 0.4"
      ],
      "metadata": {
        "colab": {
          "base_uri": "https://localhost:8080/"
        },
        "id": "J_GaM8YgqiPI",
        "outputId": "3cb69f96-b148-42cc-97a0-fbf268a42ffb"
      },
      "execution_count": null,
      "outputs": [
        {
          "output_type": "execute_result",
          "data": {
            "text/plain": [
              "0.09999999999999998"
            ]
          },
          "metadata": {},
          "execution_count": 6
        }
      ]
    },
    {
      "cell_type": "code",
      "source": [
        "0.45 - 0.44"
      ],
      "metadata": {
        "colab": {
          "base_uri": "https://localhost:8080/"
        },
        "id": "mmwSViwzYGDW",
        "outputId": "038c3bf8-e671-4bcc-b140-4621e1d99806"
      },
      "execution_count": null,
      "outputs": [
        {
          "output_type": "execute_result",
          "data": {
            "text/plain": [
              "0.010000000000000009"
            ]
          },
          "metadata": {},
          "execution_count": 7
        }
      ]
    },
    {
      "cell_type": "code",
      "source": [
        "# Приклад 3: неточність при множенні\n",
        "0.1 * 3  # Очікуємо 0.3, але отримаємо 0.30000000000000004"
      ],
      "metadata": {
        "colab": {
          "base_uri": "https://localhost:8080/"
        },
        "id": "jvPDaD0J60Lu",
        "outputId": "b4301c94-2eb6-4558-80f5-3bdcb850d4e5"
      },
      "execution_count": null,
      "outputs": [
        {
          "output_type": "execute_result",
          "data": {
            "text/plain": [
              "0.30000000000000004"
            ]
          },
          "metadata": {},
          "execution_count": 8
        }
      ]
    },
    {
      "cell_type": "code",
      "source": [
        "0.33 * 0.3\n"
      ],
      "metadata": {
        "colab": {
          "base_uri": "https://localhost:8080/"
        },
        "id": "op-ukjVIYhb_",
        "outputId": "7a404166-9c0b-4820-9f71-3f9983c0e6e9"
      },
      "execution_count": null,
      "outputs": [
        {
          "output_type": "execute_result",
          "data": {
            "text/plain": [
              "0.099"
            ]
          },
          "metadata": {},
          "execution_count": 9
        }
      ]
    },
    {
      "cell_type": "code",
      "source": [
        "# Приклад 4: як виправити проблему за допомогою модуля decimal\n",
        "from decimal import Decimal\n",
        "\n",
        "print(Decimal('0.3') - Decimal('0.2'))  # Отримаємо точно 0.1"
      ],
      "metadata": {
        "colab": {
          "base_uri": "https://localhost:8080/"
        },
        "id": "RvvGJ94w63Ky",
        "outputId": "fb02e7b6-da00-45fd-d4e2-9d6506a8e1ad"
      },
      "execution_count": null,
      "outputs": [
        {
          "output_type": "stream",
          "name": "stdout",
          "text": [
            "0.1\n"
          ]
        }
      ]
    },
    {
      "cell_type": "code",
      "source": [
        "# Приклад 5: округлення значення\n",
        "print(round(0.3 - 0.2, 10))  # Отримаємо 0.1 без неточностi"
      ],
      "metadata": {
        "colab": {
          "base_uri": "https://localhost:8080/"
        },
        "id": "X0m19nP4656I",
        "outputId": "d079b374-a8bf-4bed-85d0-e87a22fb0760"
      },
      "execution_count": null,
      "outputs": [
        {
          "output_type": "stream",
          "name": "stdout",
          "text": [
            "0.1\n"
          ]
        }
      ]
    },
    {
      "cell_type": "code",
      "source": [
        "# Приклад 6: розрахунок площі кімнати з похибкою\n",
        "room_length = 15.3\n",
        "room_width = 3\n",
        "laminate_area = room_length * room_width\n",
        "print(\"Площа кімнати:\", laminate_area)\n",
        "\n",
        "# Виправлення з використанням Decimal\n",
        "print(\"Площа кімнати (точно):\", Decimal(str(room_length)) * Decimal(str(room_width)))"
      ],
      "metadata": {
        "colab": {
          "base_uri": "https://localhost:8080/"
        },
        "id": "d9v1zlu57NfA",
        "outputId": "0e891931-f600-49b3-94a9-a02055623127"
      },
      "execution_count": null,
      "outputs": [
        {
          "output_type": "stream",
          "name": "stdout",
          "text": [
            "Площа кімнати: 45.900000000000006\n",
            "Площа кімнати (точно): 45.9\n"
          ]
        }
      ]
    },
    {
      "cell_type": "code",
      "source": [
        "a = 0.3 * 3.5\n",
        "a"
      ],
      "metadata": {
        "colab": {
          "base_uri": "https://localhost:8080/"
        },
        "id": "B6z9o9_mZ3N7",
        "outputId": "101faa97-72f4-43da-be58-c277a4f114bd"
      },
      "execution_count": null,
      "outputs": [
        {
          "output_type": "execute_result",
          "data": {
            "text/plain": [
              "1.05"
            ]
          },
          "metadata": {},
          "execution_count": 15
        }
      ]
    },
    {
      "cell_type": "code",
      "source": [
        "b = 5.0 * 9.0\n",
        "b"
      ],
      "metadata": {
        "colab": {
          "base_uri": "https://localhost:8080/"
        },
        "id": "NjjF1QQlaAnb",
        "outputId": "5c8014f3-879e-4ee6-dcef-468c5bc4394f"
      },
      "execution_count": null,
      "outputs": [
        {
          "output_type": "execute_result",
          "data": {
            "text/plain": [
              "45.0"
            ]
          },
          "metadata": {},
          "execution_count": 16
        }
      ]
    },
    {
      "cell_type": "code",
      "source": [
        "b/ a"
      ],
      "metadata": {
        "colab": {
          "base_uri": "https://localhost:8080/"
        },
        "id": "VvPxn_vaaF4U",
        "outputId": "3b991f1c-a1cb-4dfb-e97e-5c429323e14a"
      },
      "execution_count": null,
      "outputs": [
        {
          "output_type": "execute_result",
          "data": {
            "text/plain": [
              "42.857142857142854"
            ]
          },
          "metadata": {},
          "execution_count": 17
        }
      ]
    },
    {
      "cell_type": "code",
      "source": [
        "300 * a"
      ],
      "metadata": {
        "colab": {
          "base_uri": "https://localhost:8080/"
        },
        "id": "omYTWClAaOkg",
        "outputId": "fd8d216c-9fda-45af-9d98-751e23fcac42"
      },
      "execution_count": null,
      "outputs": [
        {
          "output_type": "execute_result",
          "data": {
            "text/plain": [
              "315.0"
            ]
          },
          "metadata": {},
          "execution_count": 18
        }
      ]
    },
    {
      "cell_type": "code",
      "source": [
        "\n",
        "# Приклад 7: неточність при діленні\n",
        "print(1 / 3)  # Очікуємо 0.333..., але отримаємо 0.3333333333333333\n",
        "\n"
      ],
      "metadata": {
        "colab": {
          "base_uri": "https://localhost:8080/"
        },
        "id": "QO9u_uBo7Xxc",
        "outputId": "948e0e52-864e-4760-f8cc-071528f1d218"
      },
      "execution_count": null,
      "outputs": [
        {
          "output_type": "stream",
          "name": "stdout",
          "text": [
            "0.3333333333333333\n"
          ]
        }
      ]
    },
    {
      "cell_type": "code",
      "source": [
        "# Виправлення з використанням Decimal\n",
        "print(Decimal('1') / Decimal('3'))  # Отримаємо точне значення\n"
      ],
      "metadata": {
        "colab": {
          "base_uri": "https://localhost:8080/"
        },
        "id": "bD_o8BYS7bAA",
        "outputId": "ec087454-b9e5-4ad3-9319-8520820a0fae"
      },
      "execution_count": null,
      "outputs": [
        {
          "output_type": "stream",
          "name": "stdout",
          "text": [
            "0.3333333333333333333333333333\n"
          ]
        }
      ]
    },
    {
      "cell_type": "code",
      "source": [
        "# Приклад 8: неточність при множенні дробів\n",
        "print(0.1 * 0.2)  # Очікуємо 0.02, але отримаємо 0.020000000000000004\n",
        "\n",
        "# Виправлення з використанням Decimal\n",
        "print(Decimal('0.1') * Decimal('0.2'))  # Отримаємо точно 0.02"
      ],
      "metadata": {
        "colab": {
          "base_uri": "https://localhost:8080/"
        },
        "id": "o6_JegY67f8Y",
        "outputId": "e9f5acb0-eea2-447d-ba2f-f21acd40bd15"
      },
      "execution_count": null,
      "outputs": [
        {
          "output_type": "stream",
          "name": "stdout",
          "text": [
            "0.020000000000000004\n",
            "0.02\n"
          ]
        }
      ]
    }
  ]
}