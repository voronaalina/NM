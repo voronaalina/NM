{
  "nbformat": 4,
  "nbformat_minor": 0,
  "metadata": {
    "colab": {
      "provenance": [],
      "include_colab_link": true
    },
    "kernelspec": {
      "name": "python3",
      "display_name": "Python 3"
    },
    "language_info": {
      "name": "python"
    }
  },
  "cells": [
    {
      "cell_type": "markdown",
      "metadata": {
        "id": "view-in-github",
        "colab_type": "text"
      },
      "source": [
        "<a href=\"https://colab.research.google.com/github/voronaalina/NM/blob/main/%D0%9B%D0%A02_%D0%92%D0%BE%D1%80%D0%BE%D0%BD%D0%B0_1.ipynb\" target=\"_parent\"><img src=\"https://colab.research.google.com/assets/colab-badge.svg\" alt=\"Open In Colab\"/></a>"
      ]
    },
    {
      "cell_type": "markdown",
      "source": [
        "1. Метод ділення навпіл.\n",
        "Варіант 1 змінено на 17"
      ],
      "metadata": {
        "id": "VgrW9zRY0dVt"
      }
    },
    {
      "cell_type": "code",
      "execution_count": null,
      "metadata": {
        "colab": {
          "base_uri": "https://localhost:8080/"
        },
        "id": "iOTNXySVyeHy",
        "outputId": "1171ee55-ec2d-43a3-92c4-13fd6c08b988"
      },
      "outputs": [
        {
          "output_type": "stream",
          "name": "stdout",
          "text": [
            "Результати обчислень\n",
            "\n",
            "          a      F(a)         c      F(c)       b      F(b)\n",
            "0 -3.000000  0.977954 -2.000000  1.135204 -1.0000 -0.454649\n",
            "1 -2.000000  1.135204 -1.500000 -0.123480 -1.0000 -0.454649\n",
            "2 -2.000000  1.135204 -1.750000  0.405593 -1.5000 -0.123480\n",
            "3 -1.750000  0.405593 -1.625000  0.109040 -1.5000 -0.123480\n",
            "4 -1.625000  0.109040 -1.562500 -0.015587 -1.5000 -0.123480\n",
            "5 -1.625000  0.109040 -1.593750  0.044659 -1.5625 -0.015587\n",
            "6 -1.593750  0.044659 -1.578125  0.014015 -1.5625 -0.015587\n",
            "7 -1.578125  0.014015 -1.570312 -0.000917 -1.5625 -0.015587\n",
            "\n",
            "В точці с =  -1.5703125 , f(c) =  -0.0009171268569415665\n"
          ]
        }
      ],
      "source": [
        "import numpy as np\n",
        "import pandas as pd\n",
        "\n",
        "# Визначаємо функцію\n",
        "def f (x):\n",
        "    y = np.cos(x)*np.sin(x)*(x**2+x+1)\n",
        "    return y\n",
        "# Визначаємо границі відрізку\n",
        "a, b = -3, -1\n",
        "# Визначаємо точність розв'язку\n",
        "h = 0.001\n",
        "# Поділяємо відрізок навпіл\n",
        "c = (a+b)/2\n",
        "# Зберігаємо результати обчислень\n",
        "data_A = [a]\n",
        "data_B = [b]\n",
        "data_C = [c]\n",
        "data_F_A = [f(a)]\n",
        "data_F_B = [f(b)]\n",
        "data_F_C = [f(c)]\n",
        "# Перевіряємо досягнення точності\n",
        "while abs(f(c)) > h:\n",
        "    # Звужуємо відрізок\n",
        "    if np.sign(f(c)) == np.sign(f(a)):\n",
        "        a = c\n",
        "    else:\n",
        "        b = c\n",
        "    # Поділяємо відрізок навпіл\n",
        "    c = (a+b)/2\n",
        "    # Зберігаємо результати обчислень\n",
        "    data_A.append(a)\n",
        "    data_B.append(b)\n",
        "    data_C.append(c)\n",
        "    data_F_A.append(f(a))\n",
        "    data_F_B.append(f(b))\n",
        "    data_F_C.append(f(c))\n",
        "# Відображаємо результати обчислень\n",
        "print('Результати обчислень')\n",
        "print()\n",
        "data = pd.DataFrame({'a': data_A,\n",
        "                     'F(a)': data_F_A,\n",
        "                     'c': data_C,\n",
        "                     'F(c)': data_F_C,\n",
        "                     'b': data_B,\n",
        "                     'F(b)': data_F_B})\n",
        "print(data)\n",
        "# Відображаємо наближений корінь рівняння\n",
        "print()\n",
        "print('В точці с = ', c, ', f(c) = ', f(c))"
      ]
    },
    {
      "cell_type": "markdown",
      "source": [
        "2. Метод ділення навпіл"
      ],
      "metadata": {
        "id": "5hYa7ucn0PEN"
      }
    },
    {
      "cell_type": "code",
      "source": [
        "import numpy as np\n",
        "import scipy.optimize as sp\n",
        "\n",
        "def f(x):\n",
        "    y = np.cos(x)*np.sin(x)*(x**2+x+1)\n",
        "    return y\n",
        "\n",
        "a, b = -3, -1\n",
        "eps = 1.e-3\n",
        "\n",
        "x = sp.bisect(f, a, b,(),eps) #функція для метода\n",
        "\n",
        "print('The approximate solution x is:', x)\n",
        "print('And the value f(x) is:', f(x))"
      ],
      "metadata": {
        "colab": {
          "base_uri": "https://localhost:8080/"
        },
        "id": "ML3KEw5q0H1e",
        "outputId": "ba6d3a4c-ad2f-467d-eec9-ff71ca372431"
      },
      "execution_count": null,
      "outputs": [
        {
          "output_type": "stream",
          "name": "stdout",
          "text": [
            "The approximate solution x is: -1.5712890625\n",
            "And the value f(x) is: 0.0009350448126615916\n"
          ]
        }
      ]
    },
    {
      "cell_type": "markdown",
      "source": [
        "3. Метод хорд"
      ],
      "metadata": {
        "id": "sYf0IvR41ufd"
      }
    },
    {
      "cell_type": "code",
      "source": [
        "import numpy as np\n",
        "import pandas as pd\n",
        "# Визначаємо функцію\n",
        "def f(x):\n",
        "    y = np.cos(x)*np.sin(x)*(x**2+x+1)\n",
        "    return y\n",
        "# Визначаємо межі відрізку\n",
        "a, b = -3, -1\n",
        "# Визначаємо точність розв'язку\n",
        "eps = 0.001\n",
        "# Точка, де хорда перетинає вісь 0x\n",
        "c = (f(a)*b-a*f(b))/(f(a)-f(b))\n",
        "\n",
        "# Зберігаємо результати обчислень\n",
        "data_A = [a]\n",
        "data_B = [b]\n",
        "data_C = [c]\n",
        "data_F_A = [f(a)]\n",
        "data_F_B = [f(b)]\n",
        "data_F_C = [f(c)]\n",
        "# Перевіряємо досягнення точності\n",
        "while np.abs(f(c)) > eps:\n",
        "    # Звужуємо відрізок\n",
        "    if np.sign(f(c)) == np.sign(f(a)):\n",
        "        a = c\n",
        "    else:\n",
        "        b = c\n",
        "    # Точка, де хорда перетинає вісь 0x\n",
        "    c = (f(a)*b-a*f(b))/(f(a)-f(b))\n",
        "    # Зберігаємо результати обчислень\n",
        "    data_A.append(a)\n",
        "    data_B.append(b)\n",
        "    data_C.append(c)\n",
        "    data_F_A.append(f(a))\n",
        "    data_F_B.append(f(b))\n",
        "    data_F_C.append(f(c))\n",
        "# Відображаємо результати обчислень\n",
        "print('Результати обчислень')\n",
        "print()\n",
        "data = pd.DataFrame({'a': data_A, 'F(a)': data_F_A,\n",
        "                     'c': data_C, 'F(c)': data_F_C,\n",
        "                     'b': data_B, 'F(b)': data_F_B})\n",
        "print(data)\n",
        "# Відображаємо наближений корінь рівняння\n",
        "print()\n",
        "print('В точці с = ', c, ', f(c) = ', f(c))"
      ],
      "metadata": {
        "colab": {
          "base_uri": "https://localhost:8080/"
        },
        "id": "3p6i5xHK1y3l",
        "outputId": "5d7cb481-6809-4eb0-e7a6-f4fa9e7e78db"
      },
      "execution_count": null,
      "outputs": [
        {
          "output_type": "stream",
          "name": "stdout",
          "text": [
            "Результати обчислень\n",
            "\n",
            "          a      F(a)         c      F(c)         b      F(b)\n",
            "0 -3.000000  0.977954 -1.634717  0.129889 -1.000000 -0.454649\n",
            "1 -1.634717  0.129889 -1.493678 -0.133455 -1.000000 -0.454649\n",
            "2 -1.634717  0.129889 -1.565152 -0.010636 -1.493678 -0.133455\n",
            "3 -1.634717  0.129889 -1.570418 -0.000718 -1.565152 -0.010636\n",
            "\n",
            "В точці с =  -1.5704175737258015 , f(c) =  -0.0007180376446871882\n"
          ]
        }
      ]
    },
    {
      "cell_type": "markdown",
      "source": [
        "4. Метод Ньютона (дотичних)"
      ],
      "metadata": {
        "id": "40blPBSK2Cdm"
      }
    },
    {
      "cell_type": "code",
      "source": [
        "import numpy as np\n",
        "import pandas as pd\n",
        "# Визначаємо функцію\n",
        "def f(x):\n",
        "    y = np.cos(x)*np.sin(x)*(x**2+x+1)\n",
        "    return y\n",
        "# Визначаємо першу похідну\n",
        "def df(x):\n",
        "    y1 = -(x**2+x+1)*(np.sin(x))**2\n",
        "    y2 = (x**2+x+1)*(np.cos(x))**2\n",
        "    y3 = (2*x+1)*np.sin(x)*np.cos(x)\n",
        "    y = y1+y2+y3\n",
        "    return y\n",
        "# Визначаємо початкову точку\n",
        "c = -1.4\n",
        "# Визначаємо точність розв'язку\n",
        "h = 0.001\n",
        "# Зберігаємо результати обчислень\n",
        "data_C = [c]\n",
        "data_F_C = [f(c)]\n",
        "# Перевіряємо досягнення точності\n",
        "while abs(f(c)) > h:\n",
        "    # Точка, де дотична перетинає вісь 0x\n",
        "    c -= f(c)/df(c)\n",
        "    # Зберігаємо результати обчислень\n",
        "    data_C.append(c)\n",
        "    data_F_C.append(f(c))\n",
        "# Відображаємо результати обчислень\n",
        "print('Результати обчислень')\n",
        "print()\n",
        "data = pd.DataFrame({'c': data_C, 'F(c)': data_F_C})\n",
        "print(data)\n",
        "# Відображаємо наближений корінь рівняння\n",
        "print()\n",
        "print('В точці с = ', c, ', f(c) = ', f(c))"
      ],
      "metadata": {
        "colab": {
          "base_uri": "https://localhost:8080/"
        },
        "id": "WeGQjbjW2HDz",
        "outputId": "7fd55bf4-4d4c-43ea-ce09-3fbf365aa5c5"
      },
      "execution_count": null,
      "outputs": [
        {
          "output_type": "stream",
          "name": "stdout",
          "text": [
            "Результати обчислень\n",
            "\n",
            "          c      F(c)\n",
            "0 -1.400000 -0.261291\n",
            "1 -1.623636  0.106144\n",
            "2 -1.573564  0.005266\n",
            "3 -1.570805  0.000016\n",
            "\n",
            "В точці с =  -1.5708049170979717 , f(c) =  1.6292567852764437e-05\n"
          ]
        }
      ]
    },
    {
      "cell_type": "markdown",
      "source": [
        "5. Метод Ньютона (дотичних)"
      ],
      "metadata": {
        "id": "qjI38bTp0xCo"
      }
    },
    {
      "cell_type": "code",
      "source": [
        "import numpy as np\n",
        "import scipy.optimize as sp\n",
        "\n",
        "def f(x):\n",
        "    y = np.cos(x)*np.sin(x)*(x**2+x+1)\n",
        "    return y\n",
        "\n",
        "def df(x):# Обчислення похідної\n",
        "    y1 = -(x**2+x+1)*(np.sin(x))**2\n",
        "    y2 = (x**2+x+1)*(np.cos(x))**2\n",
        "    y3 = (2*x+1)*np.sin(x)*np.cos(x)\n",
        "    y = y1+y2+y3\n",
        "    return y\n",
        "\n",
        "x0 = -1.4\n",
        "x1 = 1.4\n",
        "\n",
        "x_0 = sp.newton(f, x0, df, tol=1.e-3, maxiter=50)\n",
        "x_1 = sp.newton(f, x1, df, tol=1.e-3, maxiter=50)\n",
        "\n",
        "print('The approximate solution x is:', x_0)\n",
        "print('And the value f(x_0) is:', f(x_0))\n",
        "\n",
        "print('The approximate solution x is:', x_1)\n",
        "print('And the value f(x_0) is:', f(x_1))"
      ],
      "metadata": {
        "colab": {
          "base_uri": "https://localhost:8080/"
        },
        "id": "AonZxq_H0m6-",
        "outputId": "7acab5b7-6894-4cb1-b0d3-217d498bae02"
      },
      "execution_count": null,
      "outputs": [
        {
          "output_type": "stream",
          "name": "stdout",
          "text": [
            "The approximate solution x is: -1.5707963268782201\n",
            "And the value f(x_0) is: 1.5803176499052036e-10\n",
            "The approximate solution x is: 1.5707963267958693\n",
            "And the value f(x_0) is: -4.9007361645997675e-12\n"
          ]
        }
      ]
    },
    {
      "cell_type": "markdown",
      "source": [
        " # Знаходження коренів рівняння за допомогою бібліотеки SymPy"
      ],
      "metadata": {
        "id": "pvK9N9TH1QD-"
      }
    },
    {
      "cell_type": "code",
      "source": [
        "import sympy as sym\n",
        "\n",
        "x = sym.Symbol('x')\n",
        "\n",
        "y = sym.cos(x)*sym.sin(x)*(x**2+x+1)\n",
        "\n",
        "s = sym.solve(y)\n",
        "\n",
        "print(s)"
      ],
      "metadata": {
        "colab": {
          "base_uri": "https://localhost:8080/"
        },
        "id": "PuAp1WCr08qt",
        "outputId": "36c578b1-b0b4-40d5-8142-44bf252e747d"
      },
      "execution_count": null,
      "outputs": [
        {
          "output_type": "stream",
          "name": "stdout",
          "text": [
            "[0, pi/2, pi, 3*pi/2, -1/2 - sqrt(3)*I/2, -1/2 + sqrt(3)*I/2]\n"
          ]
        }
      ]
    },
    {
      "cell_type": "code",
      "source": [
        "import sympy as sym\n",
        "\n",
        "x, a, b, c = sym.symbols('x, a, b, c')\n",
        "\n",
        "y = a * x**2 + b * x + c\n",
        "\n",
        "s = sym.solve(y, x)\n",
        "\n",
        "print(s)"
      ],
      "metadata": {
        "colab": {
          "base_uri": "https://localhost:8080/"
        },
        "id": "Y0d-uHtp1c7r",
        "outputId": "42a681c2-3c44-4db2-dbe7-7c1615e9bbe9"
      },
      "execution_count": null,
      "outputs": [
        {
          "output_type": "stream",
          "name": "stdout",
          "text": [
            "[(-b - sqrt(-4*a*c + b**2))/(2*a), (-b + sqrt(-4*a*c + b**2))/(2*a)]\n"
          ]
        }
      ]
    },
    {
      "cell_type": "markdown",
      "source": [],
      "metadata": {
        "id": "mk1oBvYj1GC2"
      }
    },
    {
      "cell_type": "code",
      "source": [
        "!pip install numdifftools"
      ],
      "metadata": {
        "colab": {
          "base_uri": "https://localhost:8080/"
        },
        "id": "yiLJNuM3Cq0-",
        "outputId": "9ab33b6d-7e87-4cc1-bd4f-4cace6c3e451"
      },
      "execution_count": 3,
      "outputs": [
        {
          "output_type": "stream",
          "name": "stdout",
          "text": [
            "Collecting numdifftools\n",
            "  Downloading numdifftools-0.9.41-py2.py3-none-any.whl.metadata (39 kB)\n",
            "Requirement already satisfied: numpy>=1.9 in /usr/local/lib/python3.12/dist-packages (from numdifftools) (2.0.2)\n",
            "Requirement already satisfied: scipy>=0.8 in /usr/local/lib/python3.12/dist-packages (from numdifftools) (1.16.1)\n",
            "Downloading numdifftools-0.9.41-py2.py3-none-any.whl (100 kB)\n",
            "\u001b[?25l   \u001b[90m━━━━━━━━━━━━━━━━━━━━━━━━━━━━━━━━━━━━━━━━\u001b[0m \u001b[32m0.0/100.2 kB\u001b[0m \u001b[31m?\u001b[0m eta \u001b[36m-:--:--\u001b[0m\r\u001b[2K   \u001b[90m━━━━━━━━━━━━━━━━━━━━━━━━━━━━━━━━━━━━━━━━\u001b[0m \u001b[32m100.2/100.2 kB\u001b[0m \u001b[31m6.8 MB/s\u001b[0m eta \u001b[36m0:00:00\u001b[0m\n",
            "\u001b[?25hInstalling collected packages: numdifftools\n",
            "Successfully installed numdifftools-0.9.41\n"
          ]
        }
      ]
    },
    {
      "cell_type": "code",
      "source": [
        "#Лабораторна робота 2\n",
        "#Відокремлення коренів\n",
        "#зміна 1 варіанту на 17\n",
        "import numpy as np\n",
        "import numdifftools as nd\n",
        "\n",
        "def f(x):\n",
        "    return 4*x**4 - 4*x**3 + 2*x**2 - 3*x - 9\n",
        "\n",
        "\n",
        "def find_segments(): #відокремлюємо корені\n",
        "    search_range = np.arange(-5, 5, 1)\n",
        "\n",
        "    a = None\n",
        "    previous_x = None\n",
        "    current_x  = None\n",
        "    segments = []\n",
        "\n",
        "    for x in search_range:\n",
        "        x = round(x, 4)\n",
        "        current_x = f(x)\n",
        "        if previous_x != None and previous_x * current_x < 0:\n",
        "            segments.append((a, x))\n",
        "        a = x\n",
        "        previous_x = current_x\n",
        "    return segments\n",
        "\n",
        "segments = find_segments()\n",
        "for a, b in segments:\n",
        "    print(f'Found segment:  [{a}, {b}]')\n"
      ],
      "metadata": {
        "colab": {
          "base_uri": "https://localhost:8080/"
        },
        "id": "L-9dn4npCso-",
        "outputId": "6272e22b-dc7f-4f9e-cb7d-6cb1b91ea049"
      },
      "execution_count": 24,
      "outputs": [
        {
          "output_type": "stream",
          "name": "stdout",
          "text": [
            "Found segment:  [-1, 0]\n",
            "Found segment:  [1, 2]\n"
          ]
        }
      ]
    },
    {
      "cell_type": "code",
      "source": [
        "import numpy as np\n",
        "import matplotlib.pyplot as plt\n",
        "\n",
        "# Визначення функції\n",
        "def f(x):\n",
        "    return 4*x**4 - 4*x**3 + 2*x**2 - 3*x - 9\n",
        "\n",
        "# Генерація значень x\n",
        "x = np.linspace(-2, 2, 100)\n",
        "\n",
        "# Генерація значень y\n",
        "y = f(x)\n",
        "\n",
        "# Побудова графіка\n",
        "plt.figure(figsize=(8, 6))\n",
        "plt.plot(x, y, label='4*x**4 - 4*x**3 + 2*x**2 - 3*x - 9', color='blue')\n",
        "plt.title('Графік функції 4*x**4 - 4*x**3 + 2*x**2 - 3*x - 9')\n",
        "plt.xlabel('x')\n",
        "plt.ylabel('f(x)')\n",
        "\n",
        "# Додавання осей з стрілками\n",
        "plt.axhline(0, color='black', linewidth=0.5)\n",
        "plt.axvline(0, color='black', linewidth=0.5)\n",
        "\n",
        "plt.text(2.05, -4, 'x', ha='center', va='center')\n",
        "plt.text(-0.3, 190, 'y', ha='center', va='center')\n",
        "\n",
        "plt.grid(True)\n",
        "plt.legend()\n",
        "plt.show()\n"
      ],
      "metadata": {
        "colab": {
          "base_uri": "https://localhost:8080/",
          "height": 863
        },
        "id": "7zUI3d1xZXar",
        "outputId": "d6cb8fa8-c7f4-4a44-bd49-8c15de6e4064"
      },
      "execution_count": 27,
      "outputs": [
        {
          "output_type": "display_data",
          "data": {
            "text/plain": [
              "<Figure size 800x600 with 1 Axes>"
            ],
            "image/png": "[encoded data removed]"
          },
          "metadata": {}
        }
      ]
    },
    {
      "cell_type": "markdown",
      "source": [
        "![image.png](data:image/png;base64,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)"
      ],
      "metadata": {
        "id": "gxWQrUXQRR6r"
      }
    },
    {
      "cell_type": "code",
      "source": [
        "#Лабораторна робота. Метод половинного ділення, хорд\n",
        "\n",
        "\n",
        "def rec(a, b, eps):  # метод половинного ділення\n",
        "    while (abs(a - b) > eps):\n",
        "        if f(a) * f((a + b) / 2) < 0:\n",
        "            b = (a + b) / 2\n",
        "        else:\n",
        "            a = (a + b) / 2\n",
        "        x = (a + b) / 2\n",
        "\n",
        "    print('x= ', round(x, 5), '  -   Half division method')\n"
      ],
      "metadata": {
        "id": "BgjK94O9Cfxe"
      },
      "execution_count": 21,
      "outputs": []
    },
    {
      "cell_type": "code",
      "source": [
        "def hord(a, b, eps):  # метод хорд\n",
        "    derivative_f = nd.Derivative(f, n=2)\n",
        "    if f(a) * derivative_f(a) > 0:\n",
        "        x0 = a\n",
        "        xi = b\n",
        "    else:\n",
        "        x0 = b\n",
        "        xi = a\n",
        "    xi_1 = xi - (xi - x0) * f(xi) / (f(xi) - f(x0))\n",
        "    while (np.abs(xi_1 - xi) > eps):\n",
        "        xi = xi_1\n",
        "        xi_1 = xi - (xi - x0) * f(xi) / (f(xi) - f(x0))\n",
        "    print('x= ', round(xi_1, 5), '  -   Chord method')\n"
      ],
      "metadata": {
        "id": "Sz_KWVf7D2tL"
      },
      "execution_count": 22,
      "outputs": []
    },
    {
      "cell_type": "code",
      "source": [
        "if __name__ == \"__main__\":\n",
        "    a1, b1 = -1, 0\n",
        "    a2, b2 = 1, 2\n",
        "    eps = 0.001\n",
        "    print(\"Розв'язки на відрізку [-1,0]\")\n",
        "    rec(a1, b1, eps)\n",
        "    hord(a1, b1, eps)\n",
        "    print(\"\\n Розв'язки на відрізку [1,2]\")\n",
        "    rec(a2, b2, eps)\n",
        "    hord(a2, b2, eps)"
      ],
      "metadata": {
        "id": "upx7R4yoFZj_",
        "outputId": "5752ad7f-2cd5-4648-afed-4f6884961181",
        "colab": {
          "base_uri": "https://localhost:8080/"
        }
      },
      "execution_count": 26,
      "outputs": [
        {
          "output_type": "stream",
          "name": "stdout",
          "text": [
            "Розв'язки на відрізку [-1,0]\n",
            "x=  -0.86768   -   Half division method\n",
            "x=  -0.86802   -   Chord method\n",
            "\n",
            " Розв'язки на відрізку [1,2]\n",
            "x=  1.56885   -   Half division method\n",
            "x=  1.56832   -   Chord method\n"
          ]
        }
      ]
    },
    {
      "cell_type": "code",
      "source": [
        "#Лабораторна робота 3. Метод Ньютона (дотичних). Комбінований метод\n",
        "\n",
        "def nuton(a, b, eps, f):\n",
        "    df2 = nd.Derivative(f, n=2)(b)  # Отримуємо значення похідної другого порядку в точці b\n",
        "    if f(b) * df2 > 0:\n",
        "        xi = b\n",
        "    else:\n",
        "        xi = a\n",
        "    df = nd.Derivative(f, n=1)(xi)  # Отримуємо значення похідної першого порядку в точці xi\n",
        "    xi_1 = xi - f(xi) / df\n",
        "    while abs(xi_1 - xi) > eps:  # перевіряємо точність\n",
        "        xi = xi_1\n",
        "        xi_1 = xi - f(xi) / df\n",
        "    print('Метод Ньютона, x = ', xi_1.round(4))\n"
      ],
      "metadata": {
        "id": "uz6OF8g2C-vY"
      },
      "execution_count": 28,
      "outputs": []
    },
    {
      "cell_type": "code",
      "source": [
        "def komb(a, b, eps, f):\n",
        "    df2 = nd.Derivative(f, n=2)(a)\n",
        "    if f(a) * df2 > 0:\n",
        "        a0 = a\n",
        "        b0 = b\n",
        "    else:\n",
        "        a0 = b\n",
        "        b0 = a\n",
        "    ai = a0\n",
        "    bi = b0\n",
        "    while abs(ai - bi) > eps:\n",
        "        ai_1 = ai - f(ai) * (bi - ai) / (f(bi) - f(ai))\n",
        "        bi_1 = bi - f(bi) / nd.Derivative(f, n=1)(bi)\n",
        "        ai = ai_1\n",
        "        bi = bi_1\n",
        "    x = (ai_1 + bi_1) / 2\n",
        "\n",
        "    print('Комбінований метод, x = ', x.round(4))\n"
      ],
      "metadata": {
        "id": "M2T4FA4ifyy_"
      },
      "execution_count": 29,
      "outputs": []
    },
    {
      "cell_type": "code",
      "source": [
        "if __name__ == \"__main__\":\n",
        "    a1, b1 = -1, 0\n",
        "    a2, b2 = 1, 2\n",
        "    eps = 0.001\n",
        "\n",
        "    print(\"Розв'язання на відрізку [-2, -1]\")\n",
        "    nuton(a1, b1, eps, f)\n",
        "    komb(a1, b1, eps, f)\n",
        "    print(\"\\n Розв'язання на відрізку [0, 1]\")\n",
        "    nuton(a2, b2, eps, f)\n",
        "    komb(a2, b2, eps, f)"
      ],
      "metadata": {
        "colab": {
          "base_uri": "https://localhost:8080/"
        },
        "id": "zrxTpvysf0zN",
        "outputId": "0775d21f-7dba-4c16-9c15-a67c55edea6b"
      },
      "execution_count": 30,
      "outputs": [
        {
          "output_type": "stream",
          "name": "stdout",
          "text": [
            "Розв'язання на відрізку [-2, -1]\n",
            "Метод Ньютона, x =  -0.8684\n",
            "Комбінований метод, x =  -0.8681\n",
            "\n",
            " Розв'язання на відрізку [0, 1]\n",
            "Метод Ньютона, x =  1.5702\n",
            "Комбінований метод, x =  1.5688\n"
          ]
        }
      ]
    }
  ]
}