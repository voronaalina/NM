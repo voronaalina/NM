{
  "nbformat": 4,
  "nbformat_minor": 0,
  "metadata": {
    "colab": {
      "provenance": [],
      "include_colab_link": true
    },
    "kernelspec": {
      "name": "python3",
      "display_name": "Python 3"
    },
    "language_info": {
      "name": "python"
    }
  },
  "cells": [
    {
      "cell_type": "markdown",
      "metadata": {
        "id": "view-in-github",
        "colab_type": "text"
      },
      "source": [
        "<a href=\"https://colab.research.google.com/github/voronaalina/NM/blob/main/%D0%9B%D0%A01_Vorona_1.ipynb\" target=\"_parent\"><img src=\"https://colab.research.google.com/assets/colab-badge.svg\" alt=\"Open In Colab\"/></a>"
      ]
    },
    {
      "cell_type": "markdown",
      "source": [
        "#Тема 1.\n",
        "Похибки обчислень"
      ],
      "metadata": {
        "id": "QIS1w_NEiL7P"
      }
    },
    {
      "cell_type": "markdown",
      "source": [
        "#Завдання. Обчислення відносної і абсолютної похибки"
      ],
      "metadata": {
        "id": "7ClyPDrHiprY"
      }
    },
    {
      "cell_type": "code",
      "source": [
        "import numpy as np"
      ],
      "metadata": {
        "id": "TBo0xB1TgPMR"
      },
      "execution_count": 1,
      "outputs": []
    },
    {
      "cell_type": "code",
      "execution_count": 6,
      "metadata": {
        "colab": {
          "base_uri": "https://localhost:8080/"
        },
        "id": "f4CX7RUAiJ8a",
        "outputId": "87ead84d-1456-4063-daf2-372bfdedafe0"
      },
      "outputs": [
        {
          "name": "stdout",
          "output_type": "stream",
          "text": [
            "Введіть точне значенння величини X: 6.63\n",
            "Введіть абсолютну похибку вимірювання величини X: 0.0034\n",
            "Введіть точне значенння величини Y: 0.463\n",
            "Введіть абсолютну похибку вимірювання величини Y: 0.0005\n"
          ]
        }
      ],
      "source": [
        "x = float(input('Введіть точне значенння величини X: ' ))\n",
        "delta_x = float(input('Введіть абсолютну похибку вимірювання величини X: '))\n",
        "y = float(input('Введіть точне значенння величини Y: ' ))\n",
        "delta_y = float(input('Введіть абсолютну похибку вимірювання величини Y: '))\n",
        "\n"
      ]
    },
    {
      "cell_type": "code",
      "source": [
        "omega_x = delta_x/x\n",
        "omega_y = delta_y/y\n",
        "\n",
        "print('Відносна похибка значення величини X: ', omega_x)\n",
        "print('Відносна похибка значення величини Y: ', omega_y)\n",
        "\n"
      ],
      "metadata": {
        "colab": {
          "base_uri": "https://localhost:8080/"
        },
        "id": "YiFvKKkZiiom",
        "outputId": "37d7f540-7d74-4dbb-a44c-352011ad5b33"
      },
      "execution_count": 7,
      "outputs": [
        {
          "output_type": "stream",
          "name": "stdout",
          "text": [
            "Відносна похибка значення величини X:  0.0005128205128205128\n",
            "Відносна похибка значення величини Y:  0.0010799136069114472\n"
          ]
        }
      ]
    },
    {
      "cell_type": "code",
      "source": [
        "def delta_sum(delta_x, delta_y):\n",
        "    return delta_x + delta_y\n",
        "print('Абсолютна похибка X+Y: ', delta_sum(delta_x, delta_y))\n"
      ],
      "metadata": {
        "colab": {
          "base_uri": "https://localhost:8080/"
        },
        "id": "fNac_lqCiydf",
        "outputId": "c4edd44a-6da1-4e2b-8e85-ba8951241a7e"
      },
      "execution_count": 8,
      "outputs": [
        {
          "output_type": "stream",
          "name": "stdout",
          "text": [
            "Абсолютна похибка X+Y:  0.0039\n"
          ]
        }
      ]
    },
    {
      "cell_type": "code",
      "source": [
        "def delta_sub(delta_x, delta_y):\n",
        "    return np.abs(delta_x - delta_y)\n",
        "\n",
        "print('Абсолютна похибка |X-Y|: ', delta_sub(delta_x, delta_y))\n"
      ],
      "metadata": {
        "colab": {
          "base_uri": "https://localhost:8080/"
        },
        "id": "gUQ2-FeNioLI",
        "outputId": "7866df22-d4e6-4825-918d-41e7c9a7b5fc"
      },
      "execution_count": 9,
      "outputs": [
        {
          "output_type": "stream",
          "name": "stdout",
          "text": [
            "Абсолютна похибка |X-Y|:  0.0029\n"
          ]
        }
      ]
    },
    {
      "cell_type": "code",
      "source": [
        "def delta_mult(x, y, delta_x, delta_y):\n",
        "    return delta_x*delta_y + delta_x*y + x*delta_y\n",
        "\n",
        "print('Абсолютна похибка X*Y: ', delta_mult(x, y, delta_x, delta_y))"
      ],
      "metadata": {
        "colab": {
          "base_uri": "https://localhost:8080/"
        },
        "id": "4aN_ZX2Qi9N5",
        "outputId": "88137ace-4da1-4f5a-e1cd-0088381a1143"
      },
      "execution_count": 10,
      "outputs": [
        {
          "output_type": "stream",
          "name": "stdout",
          "text": [
            "Абсолютна похибка X*Y:  0.0048909\n"
          ]
        }
      ]
    },
    {
      "cell_type": "code",
      "source": [
        "def delta_div(x, y, delta_x, delta_y):\n",
        "    return (delta_x + x)/(delta_y +y) - x/y\n",
        "\n",
        "print('Абсолютна похибка X/Y: ', delta_div(x, y, delta_x, delta_y))\n"
      ],
      "metadata": {
        "colab": {
          "base_uri": "https://localhost:8080/"
        },
        "id": "8ghAYPOOjDSY",
        "outputId": "17f0b89f-0ca6-4585-f621-8fa3701c751f"
      },
      "execution_count": 11,
      "outputs": [
        {
          "output_type": "stream",
          "name": "stdout",
          "text": [
            "Абсолютна похибка X/Y:  -0.00811181707405062\n"
          ]
        }
      ]
    },
    {
      "cell_type": "code",
      "source": [
        "def omega_sum(x, y, omega_x, omega_y):\n",
        "    return x/(x+y)*omega_x + y/(x+y)*omega_y\n",
        "\n",
        "print('Відносна похибка X+Y: ', omega_sum(x, y, omega_x, omega_y))\n"
      ],
      "metadata": {
        "colab": {
          "base_uri": "https://localhost:8080/"
        },
        "id": "hZP_9ElkjHb8",
        "outputId": "ff8e8f7b-afb2-45ee-9917-2c7e072d1f0e"
      },
      "execution_count": 12,
      "outputs": [
        {
          "output_type": "stream",
          "name": "stdout",
          "text": [
            "Відносна похибка X+Y:  0.0005498378683208797\n"
          ]
        }
      ]
    },
    {
      "cell_type": "code",
      "source": [
        "def omega_sub(x, y, omega_x, omega_y):\n",
        "    return x/(x-y)*omega_x - y/(x-y)*omega_y\n",
        "\n",
        "print('Відносна похибка X-Y: ', omega_sub(x, y, omega_x, omega_y))\n"
      ],
      "metadata": {
        "colab": {
          "base_uri": "https://localhost:8080/"
        },
        "id": "a-dSKrSCjN3f",
        "outputId": "0e7f0e5d-886a-48d6-af47-fdaa6fb1e333"
      },
      "execution_count": 13,
      "outputs": [
        {
          "output_type": "stream",
          "name": "stdout",
          "text": [
            "Відносна похибка X-Y:  0.0004702448516296417\n"
          ]
        }
      ]
    },
    {
      "cell_type": "code",
      "source": [
        "def omega_mult(omega_x, omega_y):\n",
        "    return omega_x*omega_y + omega_x + omega_y\n",
        "\n",
        "print('Відносна похибка X*Y: ', omega_mult(omega_x, omega_y))\n",
        "\n"
      ],
      "metadata": {
        "colab": {
          "base_uri": "https://localhost:8080/"
        },
        "id": "gNlz6A5wjRHR",
        "outputId": "2e73575e-d70d-4112-dbe7-898f4830a6e7"
      },
      "execution_count": 14,
      "outputs": [
        {
          "output_type": "stream",
          "name": "stdout",
          "text": [
            "Відносна похибка X*Y:  0.0015932879215816583\n"
          ]
        }
      ]
    },
    {
      "cell_type": "code",
      "source": [
        "def omega_div(omega_x, omega_y):\n",
        "    return (omega_x - omega_y) / (omega_y + 1)\n",
        "\n",
        "print('Відносна похибка X/Y: ', omega_div(omega_x, omega_y))"
      ],
      "metadata": {
        "colab": {
          "base_uri": "https://localhost:8080/"
        },
        "id": "CdSAJEPRjTlz",
        "outputId": "bd00afba-cd0a-447e-bbc7-d262a9d5f3a0"
      },
      "execution_count": 15,
      "outputs": [
        {
          "output_type": "stream",
          "name": "stdout",
          "text": [
            "Відносна похибка X/Y:  -0.0005664813431803723\n"
          ]
        }
      ]
    },
    {
      "cell_type": "markdown",
      "source": [
        "Приклад реалізації завдання 1"
      ],
      "metadata": {
        "id": "Be7Zm1jb9ZjU"
      }
    },
    {
      "cell_type": "code",
      "source": [
        "def f(x, y):\n",
        "    return np.abs(x - y) / np.abs(x)\n",
        "\n",
        "def main():\n",
        "    x1 = np.sqrt(44)  # Точне значення sqrt(44)\n",
        "    x2 = 19 / 41  # Точне значення 19/41\n",
        "    x1_1 = 6.63  # Наближене значення sqrt(44)\n",
        "    x2_2 = 0.463  # Наближене значення 19/41\n",
        "\n",
        "    rel_error_x1 = f(x1, x1_1)\n",
        "    rel_error_x2 = f(x2, x2_2)\n",
        "\n",
        "    if rel_error_x1 < rel_error_x2:\n",
        "        print(\"Перша рівність точніше з відносною похибкою:\", round(rel_error_x1, 5))\n",
        "    elif rel_error_x2 < rel_error_x1:\n",
        "        print(\"Друга рівність точніше з відносною похибкою:\", round(rel_error_x2, 5))\n",
        "    else:\n",
        "        print(\"Обидві рівності мають однакову точність з відносною похибкою:\", round(rel_error_x2, 5))\n",
        "\n",
        "if __name__ == \"__main__\":\n",
        "    main()\n"
      ],
      "metadata": {
        "colab": {
          "base_uri": "https://localhost:8080/"
        },
        "id": "k34h0Z6EjU1P",
        "outputId": "395b516d-7735-41a4-a855-eb0af2a37ab2"
      },
      "execution_count": 18,
      "outputs": [
        {
          "output_type": "stream",
          "name": "stdout",
          "text": [
            "Перша рівність точніше з відносною похибкою: 0.00049\n"
          ]
        }
      ]
    },
    {
      "cell_type": "markdown",
      "source": [],
      "metadata": {
        "id": "2XMfNI7bakzY"
      }
    }
  ]
}